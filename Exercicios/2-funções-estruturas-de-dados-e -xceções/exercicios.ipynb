{
 "cells": [
  {
   "attachments": {},
   "cell_type": "markdown",
   "metadata": {},
   "source": [
    "## 1 Bibliotecas"
   ]
  },
  {
   "cell_type": "code",
   "execution_count": 1,
   "metadata": {},
   "outputs": [
    {
     "name": "stdout",
     "output_type": "stream",
     "text": [
      "Collecting matplotlib==3.7.1\n",
      "  Using cached matplotlib-3.7.1-cp311-cp311-win_amd64.whl (7.6 MB)\n",
      "Requirement already satisfied: contourpy>=1.0.1 in c:\\users\\guuh\\nova pasta\\lib\\site-packages (from matplotlib==3.7.1) (1.1.0)\n",
      "Requirement already satisfied: cycler>=0.10 in c:\\users\\guuh\\nova pasta\\lib\\site-packages (from matplotlib==3.7.1) (0.11.0)\n",
      "Requirement already satisfied: fonttools>=4.22.0 in c:\\users\\guuh\\nova pasta\\lib\\site-packages (from matplotlib==3.7.1) (4.40.0)\n",
      "Requirement already satisfied: kiwisolver>=1.0.1 in c:\\users\\guuh\\nova pasta\\lib\\site-packages (from matplotlib==3.7.1) (1.4.4)\n",
      "Requirement already satisfied: numpy>=1.20 in c:\\users\\guuh\\nova pasta\\lib\\site-packages (from matplotlib==3.7.1) (1.25.0)\n",
      "Requirement already satisfied: packaging>=20.0 in c:\\users\\guuh\\nova pasta\\lib\\site-packages (from matplotlib==3.7.1) (23.1)\n",
      "Requirement already satisfied: pillow>=6.2.0 in c:\\users\\guuh\\nova pasta\\lib\\site-packages (from matplotlib==3.7.1) (10.0.0)\n",
      "Requirement already satisfied: pyparsing>=2.3.1 in c:\\users\\guuh\\nova pasta\\lib\\site-packages (from matplotlib==3.7.1) (3.1.0)\n",
      "Requirement already satisfied: python-dateutil>=2.7 in c:\\users\\guuh\\nova pasta\\lib\\site-packages (from matplotlib==3.7.1) (2.8.2)\n",
      "Requirement already satisfied: six>=1.5 in c:\\users\\guuh\\nova pasta\\lib\\site-packages (from python-dateutil>=2.7->matplotlib==3.7.1) (1.16.0)\n",
      "Installing collected packages: matplotlib\n",
      "  Attempting uninstall: matplotlib\n",
      "    Found existing installation: matplotlib 3.6.2\n",
      "    Uninstalling matplotlib-3.6.2:\n",
      "      Successfully uninstalled matplotlib-3.6.2\n",
      "Successfully installed matplotlib-3.7.1\n"
     ]
    },
    {
     "name": "stderr",
     "output_type": "stream",
     "text": [
      "\n",
      "[notice] A new release of pip available: 22.3.1 -> 23.1.2\n",
      "[notice] To update, run: python.exe -m pip install --upgrade pip\n"
     ]
    }
   ],
   "source": [
    "!pip install matplotlib==3.7.1"
   ]
  },
  {
   "attachments": {},
   "cell_type": "markdown",
   "metadata": {},
   "source": [
    "#### 2) Escreva um código para importar a biblioteca numpy com o alias np."
   ]
  },
  {
   "cell_type": "code",
   "execution_count": 2,
   "metadata": {},
   "outputs": [],
   "source": [
    "import numpy as np"
   ]
  },
  {
   "attachments": {},
   "cell_type": "markdown",
   "metadata": {},
   "source": [
    "#### 3) Crie um programa que lê a seguinte lista de números e escolha um número desta aleatoriamente."
   ]
  },
  {
   "cell_type": "code",
   "execution_count": 8,
   "metadata": {},
   "outputs": [
    {
     "name": "stdout",
     "output_type": "stream",
     "text": [
      "105\n"
     ]
    }
   ],
   "source": [
    "from random import choice\n",
    "\n",
    "lista = [8, 12, 54, 23, 43, 1, 90, 87, 105, 77]\n",
    "\n",
    "print(choice(lista))"
   ]
  },
  {
   "attachments": {},
   "cell_type": "markdown",
   "metadata": {},
   "source": [
    "#### 4) Crie um programa que sorteia aleatoriamente um número inteiro menor que 100."
   ]
  },
  {
   "cell_type": "code",
   "execution_count": 17,
   "metadata": {},
   "outputs": [
    {
     "name": "stdout",
     "output_type": "stream",
     "text": [
      "76\n"
     ]
    }
   ],
   "source": [
    "from random import randrange\n",
    "\n",
    "print(randrange(100))"
   ]
  },
  {
   "attachments": {},
   "cell_type": "markdown",
   "metadata": {},
   "source": [
    "#### 5) Crie um programa que solicite à pessoa usuária digitar dois números inteiros e calcular a potência do 1º número elevado ao 2º."
   ]
  },
  {
   "cell_type": "code",
   "execution_count": 18,
   "metadata": {},
   "outputs": [
    {
     "name": "stdout",
     "output_type": "stream",
     "text": [
      "100.0\n"
     ]
    }
   ],
   "source": [
    "import math\n",
    "\n",
    "n1 = int(input('Entre com o primeiro número: '))\n",
    "n2 = int(input('Entre com o segundo número: '))\n",
    "resultado = math.pow(n1, n2)\n",
    "\n",
    "print(resultado)"
   ]
  },
  {
   "attachments": {},
   "cell_type": "markdown",
   "metadata": {},
   "source": [
    "## 1.1 Aplicando a projetos"
   ]
  },
  {
   "attachments": {},
   "cell_type": "markdown",
   "metadata": {},
   "source": [
    "#### 6) Um programa deve ser escrito para sortear uma pessoa seguidora de uma rede social para ganhar um prêmio. A lista de participantes é numerada e devemos escolher aleatoriamente um número de acordo com a quantidade de participantes.\n",
    "\n",
    "#### Peça à pessoa usuária para fornecer o número de participantes do sorteio e devolva para ela o número sorteado."
   ]
  },
  {
   "cell_type": "code",
   "execution_count": 29,
   "metadata": {},
   "outputs": [
    {
     "name": "stdout",
     "output_type": "stream",
     "text": [
      "O número sorteado foi o 66\n"
     ]
    }
   ],
   "source": [
    "from random import randrange\n",
    "\n",
    "num = int(input('Forneça o número de participantes do sorteio: '))\n",
    "num_sorteado = randrange(1, num + 1)\n",
    "\n",
    "print(f'O número sorteado foi o {num_sorteado}')"
   ]
  },
  {
   "attachments": {},
   "cell_type": "markdown",
   "metadata": {},
   "source": [
    "#### 7) Você recebeu uma demanda para gerar números de token para o acesso ao aplicativo de uma empresa. O token precisa ser par e variar de 1000 até 9998. Escreva um código que solicita à pessoa usuária o seu nome e exibe uma mensagem junto a esse token gerado aleatoriamente.\n",
    "\n",
    "#### \"Olá, [nome], o seu token de acesso é [token]! Seja bem-vindo(a)!\""
   ]
  },
  {
   "cell_type": "code",
   "execution_count": 36,
   "metadata": {},
   "outputs": [
    {
     "name": "stdout",
     "output_type": "stream",
     "text": [
      "Olá, Igor, o seu token de acesso é 8690! Seja bem-vindo(a)!\n"
     ]
    }
   ],
   "source": [
    "from random import randrange\n",
    "\n",
    "nome = input('Entre com seu nome: ')\n",
    "\n",
    "token = randrange(1000, 9998, 2)\n",
    "\n",
    "print(f'Olá, {nome}, o seu token de acesso é {token}! Seja bem-vindo(a)!')"
   ]
  },
  {
   "attachments": {},
   "cell_type": "markdown",
   "metadata": {},
   "source": [
    "#### 8) Para diversificar e atrair novos clientes, uma lanchonete criou um item misterioso em seu cardápio chamado \"salada de frutas surpresa\". Neste item, são escolhidas aleatoriamente 3 frutas de uma lista de 12 para compor a salada de frutas da pessoa cliente.\n",
    "\n",
    "#### Crie o código que faça essa seleção aleatória de acordo com a lista abaixo:\n",
    "\n",
    "#### frutas = [\"maçã\", \"banana\", \"uva\", \"pêra\", \n",
    "####          \"manga\", \"coco\", \"melancia\", \"mamão\",\n",
    "####          \"laranja\", \"abacaxi\", \"kiwi\", \"ameixa\"]"
   ]
  },
  {
   "cell_type": "code",
   "execution_count": 44,
   "metadata": {},
   "outputs": [
    {
     "name": "stdout",
     "output_type": "stream",
     "text": [
      "Salada de frutas surpresa: \n",
      "mamão\n",
      "manga\n",
      "pêra\n"
     ]
    }
   ],
   "source": [
    "import random\n",
    "\n",
    "frutas = [\"maçã\", \"banana\", \"uva\", \"pêra\", \n",
    "          \"manga\", \"coco\", \"melancia\", \"mamão\",\n",
    "          \"laranja\", \"abacaxi\", \"kiwi\", \"ameixa\"]\n",
    "\n",
    "salada = random.sample(frutas, 3)\n",
    "\n",
    "print('Salada de frutas surpresa: ')\n",
    "for fruta in salada:\n",
    "    print(fruta)"
   ]
  },
  {
   "attachments": {},
   "cell_type": "markdown",
   "metadata": {},
   "source": [
    "#### 9) Você recebeu um desafio de calcular a raiz quadrada de uma lista de números, identificando quais resultaram em um número inteiro. A lista é a seguinte:\n",
    "#### numeros = [2, 8, 15, 23, 91, 112, 256]\n",
    "#### Informe no final quais números possuem raízes inteiras e seus respectivos valores."
   ]
  },
  {
   "cell_type": "code",
   "execution_count": 46,
   "metadata": {},
   "outputs": [
    {
     "name": "stdout",
     "output_type": "stream",
     "text": [
      "A raiz quadrada do 256 é um número inteiro: 16\n"
     ]
    }
   ],
   "source": [
    "import math\n",
    "\n",
    "numeros = [2, 8, 15, 23, 91, 112, 256]\n",
    "\n",
    "for numero in numeros:\n",
    "    raiz = math.sqrt(numero)\n",
    "    if raiz // 1 == raiz:\n",
    "        print(f'A raiz quadrada do {numero} é um número inteiro: {int(raiz)}')"
   ]
  },
  {
   "attachments": {},
   "cell_type": "markdown",
   "metadata": {},
   "source": [
    "#### 10) Faça um programa para uma loja que vende grama para jardins. Essa loja trabalha com jardins circulares e o preço do metro quadrado da grama é de R$ 25,00. Peça à pessoa usuária o raio da área circular e devolva o valor em reais do quanto precisará pagar."
   ]
  },
  {
   "cell_type": "code",
   "execution_count": 47,
   "metadata": {},
   "outputs": [
    {
     "name": "stdout",
     "output_type": "stream",
     "text": [
      "O valor total a ser pago é de R$ 7853.98\n"
     ]
    }
   ],
   "source": [
    "import math\n",
    "\n",
    "preco_metro_quadrado = 25.00\n",
    "\n",
    "raio = float(input(\"Digite o raio da área circular em metros: \"))\n",
    "\n",
    "area = math.pi * math.pow(raio, 2)\n",
    "valor_total = area * preco_metro_quadrado\n",
    "\n",
    "print(f\"O valor total a ser pago é de R$ {valor_total:.2f}\")"
   ]
  },
  {
   "attachments": {},
   "cell_type": "markdown",
   "metadata": {},
   "source": [
    "## 2 Funções"
   ]
  },
  {
   "attachments": {},
   "cell_type": "markdown",
   "metadata": {},
   "source": [
    "#### 1) Escreva um código que lê a lista abaixo e faça:\n",
    "#### lista = [16, 14, 63, 65, 17, 99, 70, 11, 20, 48, 79, 32, 17, 89, 12, 25, 66]\n",
    "\n",
    "#### A leitura do tamanho da lista\n",
    "#### A leitura do maior e menor valor\n",
    "#### A soma dos valores pares da lista\n",
    "#### Ao final exiba uma mensagem dizendo:\n",
    "\n",
    "#### \"A lista possui [tam] números em que o maior número é [maior] e o menor número é [menor]. A soma dos valores pares presentes nela é igual a [soma]\""
   ]
  },
  {
   "cell_type": "code",
   "execution_count": 58,
   "metadata": {},
   "outputs": [
    {
     "name": "stdout",
     "output_type": "stream",
     "text": [
      "A lista possui 17 números em que o maior número é 99 e o menor número é 11. A soma dos valores pares presentes nela é igual a 278. A soma de todos os valores é 743\n"
     ]
    }
   ],
   "source": [
    "lista = [16, 14, 63, 65, 17, 99, 70, 11, 20, 48, 79, 32, 17, 89, 12, 25, 66]\n",
    "\n",
    "tamanho = len(lista)\n",
    "maior = max(lista)\n",
    "menor = min(lista)\n",
    "soma_total = sum(lista)\n",
    "\n",
    "def soma_pares(lista):\n",
    "    for num in lista:\n",
    "        soma = 0\n",
    "        if num % 2 == 0:\n",
    "            soma += num\n",
    "    return soma\n",
    "soma_pares(lista)\n",
    "\n",
    "print (f'A lista possui {tamanho} números em que o maior número é {maior} e o menor número é {menor}. A soma dos valores pares presentes nela é igual a {soma}. A soma de todos os valores é {soma_total}')"
   ]
  },
  {
   "attachments": {},
   "cell_type": "markdown",
   "metadata": {},
   "source": [
    "#### 2) Escreva uma função que gere a tabuada de um número inteiro de 1 a 10, de acordo com a escolha da pessoa usuária. Como exemplo, para o número 7, a tabuada deve ser mostrada no seguinte formato:"
   ]
  },
  {
   "cell_type": "code",
   "execution_count": 60,
   "metadata": {},
   "outputs": [
    {
     "name": "stdout",
     "output_type": "stream",
     "text": [
      "Tabuada do 7\n",
      "7 x 0 = 0\n",
      "7 x 1 = 7\n",
      "7 x 2 = 14\n",
      "7 x 3 = 21\n",
      "7 x 4 = 28\n",
      "7 x 5 = 35\n",
      "7 x 6 = 42\n",
      "7 x 7 = 49\n",
      "7 x 8 = 56\n",
      "7 x 9 = 63\n",
      "7 x 10 = 70\n"
     ]
    }
   ],
   "source": [
    "def gera_tabuada(num):\n",
    "    print(f'Tabuada do {num}')\n",
    "    for i in range(0, 11):\n",
    "        resultado = num * i\n",
    "        print(f'{num} x {i} = {resultado}')\n",
    "\n",
    "num = int(input('Entre com um número de 1 a 10 para gerar tabuada: '))\n",
    "gera_tabuada(num)"
   ]
  },
  {
   "attachments": {},
   "cell_type": "markdown",
   "metadata": {},
   "source": [
    "#### 3) Crie a função que leia a lista abaixo e retorne uma nova lista com os múltiplos de 3:\n",
    "#### [97, 80, 94, 88, 80, 1, 16, 53, 62, 32, 24, 99]\n",
    "#### Utilize o return na função e salve a nova lista na variável mult_3."
   ]
  },
  {
   "cell_type": "code",
   "execution_count": 65,
   "metadata": {},
   "outputs": [
    {
     "name": "stdout",
     "output_type": "stream",
     "text": [
      "Lista atualizada dos números multiplos de 3 :[24, 99]\n"
     ]
    }
   ],
   "source": [
    "def multiplos_de_3(lista):\n",
    "    mult_3 = []\n",
    "    for num in lista:\n",
    "        if num % 3 == 0:\n",
    "            mult_3.append(num)\n",
    "    return mult_3\n",
    "\n",
    "lista = [97, 80, 94, 88, 80, 1, 16, 53, 62, 32, 24, 99]\n",
    "multiplos = multiplos_de_3(lista)\n",
    "print(f'Lista atualizada dos números multiplos de 3 :{multiplos}')"
   ]
  },
  {
   "attachments": {},
   "cell_type": "markdown",
   "metadata": {},
   "source": [
    "4) Crie uma lista dos quadrados dos números da seguinte lista [1, 2, 3, 4, 5, 6, 7, 8, 9, 10].\n",
    "\n",
    "Lembre-se de utilizar as funções lambda e map() para calcular o quadrado de cada elemento da lista."
   ]
  },
  {
   "cell_type": "code",
   "execution_count": 80,
   "metadata": {},
   "outputs": [
    {
     "name": "stdout",
     "output_type": "stream",
     "text": [
      "O quadrado dos números da lista é : [1, 4, 9, 16, 25, 36, 49, 64, 81, 100]\n"
     ]
    }
   ],
   "source": [
    "import math\n",
    "lista = [1, 2, 3, 4, 5, 6, 7, 8, 9, 10]\n",
    "\n",
    "calcula_quadrado = list(map(lambda x: x**2, lista))\n",
    "print(f'O quadrado dos números da lista é : {calcula_quadrado}')"
   ]
  },
  {
   "attachments": {},
   "cell_type": "markdown",
   "metadata": {},
   "source": [
    "## 2.1 Aplicando a projetos"
   ]
  },
  {
   "attachments": {},
   "cell_type": "markdown",
   "metadata": {},
   "source": [
    "#### 5) Você foi contratado(a) como cientista de dados de uma associação de skate. Para analisar as notas recebidas de skatistas em algumas competições ao longo do ano, você precisa criar um código que calcula a pontuação dos(as) atletas. Para isso, o seu código deve receber 5 notas digitadas pelas pessoas juradas.\n",
    "\n",
    "#### Para calcular a pontuação de um(a) skatista, você precisa eliminar a maior e a menor pontuação dentre as 5 notas e tirar a média das 3 notas que sobraram.\n",
    "\n",
    "#### Retorne a média para apresentar o texto:\n",
    "\n",
    "#### \"Nota da manobra: [media]\""
   ]
  },
  {
   "cell_type": "code",
   "execution_count": 110,
   "metadata": {},
   "outputs": [
    {
     "name": "stdout",
     "output_type": "stream",
     "text": [
      "Nota de manobra: 4.0\n"
     ]
    }
   ],
   "source": [
    "lista_pontuacao = []\n",
    "\n",
    "for i in range(1,6):\n",
    "    lista_pontuacao.append(float(input('Entre com a {i}º nota: ')))\n",
    "\n",
    "menor = min(lista_pontuacao)\n",
    "maior = max(lista_pontuacao)\n",
    "lista_pontuacao.remove(menor)\n",
    "lista_pontuacao.remove(maior)\n",
    "\n",
    "def calcula_media(lista):\n",
    "    media = sum(lista) / len(lista)\n",
    "    return media\n",
    "\n",
    "resultado = calcula_media(lista_pontuacao)\n",
    "\n",
    "print(f'Nota de manobra: {calcula_media(lista_pontuacao)}')\n"
   ]
  },
  {
   "cell_type": "markdown",
   "metadata": {},
   "source": [
    "#### 6) Para atender a uma demanda de uma instituição de ensino para a análise do desempenho de seus(suas) estudantes, você precisa criar uma função que receba uma lista de 4 notas e retorne:\n",
    "\n",
    "#### maior nota\n",
    "#### menor nota\n",
    "#### média\n",
    "#### situação (Aprovado(a) ou Reprovado(a))\n",
    "\n",
    "#### Para testar o comportamento da função, os dados podem ser exibidos em um texto:\n",
    "#### \"O(a) estudante obteve uma média de [media], com a sua maior nota de [maior] pontos e a menor nota de [menor] pontos e foi [situacao]\""
   ]
  },
  {
   "cell_type": "code",
   "execution_count": 2,
   "metadata": {},
   "outputs": [
    {
     "name": "stdout",
     "output_type": "stream",
     "text": [
      "O(a) estudante obteve uma média de 7.0, com a sua maior nota de 10.0 pontos e a menor nota de 4.0 pontos e foi Aprovado\n"
     ]
    }
   ],
   "source": [
    "lista_notas = []\n",
    "for i in range(1,5):\n",
    "    lista_notas.append(float(input(f'Entre com a {i}º nota do aluno:')))\n",
    "lista_notas \n",
    "\n",
    "def analise_desempenho(lista: list):\n",
    "    maior = max(lista)\n",
    "    menor = min(lista)\n",
    "    media = sum(lista) / len(lista)\n",
    "    if media > 6:\n",
    "        situacao = 'Aprovado'\n",
    "    else:\n",
    "        situacao = 'Reprovado'\n",
    "    return print(f'O(a) estudante obteve uma média de {media}, com a sua maior nota de {maior} pontos e a menor nota de {menor} pontos e foi {situacao}')\n",
    "\n",
    "analise_desempenho(lista_notas)"
   ]
  },
  {
   "cell_type": "markdown",
   "metadata": {},
   "source": [
    "#### 7) Você recebeu uma demanda para tratar 2 listas com os nomes e sobrenomes de cada estudante concatenando-as para apresentar seus nomes completos na forma Nome Sobrenome.\n",
    "\n",
    "#### As listas são:\n",
    "\n",
    "#### nomes = [\"joão\", \"MaRia\", \"JOSÉ\"]\n",
    "#### sobrenomes = [\"SILVA\", \"souza\", \"Tavares\"]\n",
    "\n",
    "#### O texto exibido ao fim deve ser parecido com:\n",
    "#### \"Nome completo: Ana Silva\""
   ]
  },
  {
   "cell_type": "code",
   "execution_count": 10,
   "metadata": {},
   "outputs": [
    {
     "name": "stdout",
     "output_type": "stream",
     "text": [
      "Nome completo: João Silva\n",
      "Nome completo: Maria Souza\n",
      "Nome completo: José Tavares\n"
     ]
    }
   ],
   "source": [
    "nomes = [\"joão\", \"MaRia\", \"JOSÉ\"]\n",
    "sobrenomes = [\"SILVA\", \"souza\", \"Tavares\"]\n",
    "\n",
    "# Função para formatar o nome e sobrenome\n",
    "def formatar_nome(nome, sobrenome):\n",
    "    nome_formatado = nome.capitalize()  # Coloca a primeira letra em maiúscula e as demais em minúscula\n",
    "    sobrenome_formatado = sobrenome.capitalize()\n",
    "    return f\"Nome completo: {nome_formatado} {sobrenome_formatado}\"\n",
    "\n",
    "# Concatena nomes e sobrenomes usando a função map\n",
    "nomes_completos = list(map(formatar_nome, nomes, sobrenomes))\n",
    "\n",
    "# Exibir os nomes completos\n",
    "for nome_completo in nomes_completos:\n",
    "    print(nome_completo)\n"
   ]
  },
  {
   "cell_type": "markdown",
   "metadata": {},
   "source": [
    "#### 8) Como cientista de dados em um time de futebol, você precisa implementar novas formas de coleta de dados sobre o desempenho de jogadores e do time como um todo. Sua primeira ação é criar uma forma de calcular a pontuação do time no campeonato nacional a partir dos dados de gols marcados e sofridos em cada jogo.\n",
    "\n",
    "#### Escreva uma função chamada calcula_pontos que recebe como parâmetros duas listas de números inteiros, representando os gols marcados e sofridos pelo time em cada partida do campeonato. A função deve retornar a pontuação do time e o aproveitamento em percentual, levando em consideração que a vitória vale 3 pontos, o empate vale 1 ponto e a derrota 0 pontos.\n",
    "\n",
    "#### Para teste, utilize as seguintes listas de gols marcados e sofridos:\n",
    "\n",
    "#### gols_marcados = [2, 1, 3, 1, 0]\n",
    "#### gols_sofridos = [1, 2, 2, 1, 3]\n",
    "\n",
    "#### Provável texto exibido:\n",
    "#### \"A pontuação do time foi de [pontos] e seu aproveitamento foi de [aprov]%\""
   ]
  },
  {
   "cell_type": "code",
   "execution_count": 12,
   "metadata": {},
   "outputs": [
    {
     "data": {
      "text/plain": [
       "'A pontuação do time foi de 7 e seu aproveitamento foi de 46.67%'"
      ]
     },
     "execution_count": 12,
     "metadata": {},
     "output_type": "execute_result"
    }
   ],
   "source": [
    "gols_marcados = [2, 1, 3, 1, 0]\n",
    "gols_sofridos = [1, 2, 2, 1, 3]\n",
    "\n",
    "def calcula_pontos(gol_marcado, gol_sofrido):\n",
    "    vitoria = 0\n",
    "    derrota = 0\n",
    "    empate = 0\n",
    "    for i in range(len(gol_marcado)):\n",
    "        if gol_marcado[i] > gol_sofrido[i]:\n",
    "            vitoria += 1\n",
    "        elif gol_marcado[i] == gol_sofrido[i]:\n",
    "            empate += 1\n",
    "        else:\n",
    "            derrota += 1\n",
    "    pontuacao = vitoria * 3 + empate\n",
    "    pontuacao_distribuida = len(gol_marcado) * 3\n",
    "    percentual_aproveitamento = (pontuacao / pontuacao_distribuida) * 100\n",
    "    return f'A pontuação do time foi de {pontuacao} e seu aproveitamento foi de {percentual_aproveitamento:.2f}%'\n",
    "\n",
    "calcula_pontos(gols_marcados, gols_sofridos)"
   ]
  },
  {
   "cell_type": "markdown",
   "metadata": {},
   "source": [
    "#### 9) Você recebeu o desafio de criar um código que calcula os gastos de uma viagem para um das quatro cidades partindo de Recife, sendo elas: Salvador, Fortaleza, Natal e Aracaju.\n",
    "\n",
    "#### O custo da diária do hotel é de 150 reais em todas elas e o consumo de gasolina na viagem de carro é de 14 km/l, sendo que o valor da gasolina é de 5 reais o litro. O gastos com passeios e alimentação a se fazer em cada uma delas por dia seria de [200, 400, 250, 300], respectivamente.\n",
    "\n",
    "#### Sabendo que as distâncias entre Recife e cada uma das cidades é de aproximadamente [850, 800, 300, 550] km, crie três funções nas quais: a 1ª função calcule os gastos com hotel (gasto_hotel), a 2ª calcule os gastos com a gasolina (gasto_gasolina) e a 3ª os gastos com passeio e alimentação (gasto_passeio).\n",
    "\n",
    "#### Para testar, simule uma viagem de 3 dias para Salvador partindo de Recife. Considere a viagem de ida e volta de carro.\n",
    "#### \"Com base nos gastos definidos, uma viagem de [dias] dias para [cidade] saindo de Recife custaria [gastos] reais\""
   ]
  },
  {
   "cell_type": "code",
   "execution_count": 37,
   "metadata": {},
   "outputs": [
    {
     "name": "stdout",
     "output_type": "stream",
     "text": [
      "Com base nos gastos definidos, uma viagem de 3 dias para Salvador saindo de Recife custaria 1657.142857142857 reais.\n"
     ]
    }
   ],
   "source": [
    "def gasto_hotel(dias):\n",
    "    custo_diaria_hotel = 150\n",
    "    return custo_diaria_hotel * dias\n",
    "\n",
    "def gasto_gasolina(distancia):\n",
    "    consumo_gasolina = 14\n",
    "    preco_gasolina = 5\n",
    "    litros_gasolina = distancia / consumo_gasolina\n",
    "    return litros_gasolina * preco_gasolina * 2  # Considerando ida e volta de carro\n",
    "\n",
    "def gasto_passeio_alimentacao(dias, gasto_diario):\n",
    "    return dias * gasto_diario\n",
    "\n",
    "def calcular_gastos_viagem(dias, cidade):\n",
    "    distancias = {\n",
    "        'Salvador': 850,\n",
    "        'Fortaleza': 800,\n",
    "        'Natal': 300,\n",
    "        'Aracaju': 550\n",
    "    }\n",
    "    gastos_passeio_alimentacao = {\n",
    "        'Salvador': 200,\n",
    "        'Fortaleza': 400,\n",
    "        'Natal': 250,\n",
    "        'Aracaju': 300\n",
    "    }\n",
    "    \n",
    "    distancia = distancias[cidade]\n",
    "    gasto_hotel_total = gasto_hotel(dias)\n",
    "    gasto_gasolina_total = gasto_gasolina(distancia)\n",
    "    gasto_passeio_alimentacao_total = gasto_passeio_alimentacao(dias, gastos_passeio_alimentacao[cidade])\n",
    "    gasto_total = gasto_hotel_total + gasto_gasolina_total + gasto_passeio_alimentacao_total\n",
    "    \n",
    "    print(f\"Com base nos gastos definidos, uma viagem de {dias} dias para {cidade} saindo de Recife custaria {gasto_total} reais.\")\n",
    "\n",
    "# Simulando uma viagem de 3 dias para Salvador\n",
    "calcular_gastos_viagem(3, 'Salvador')\n"
   ]
  },
  {
   "cell_type": "markdown",
   "metadata": {},
   "source": [
    "#### 10) Você iniciou um estágio em uma empresa que trabalha com processamento de linguagem natural (NLP). Sua líder requisitou que você criasse um trecho de código que recebe uma frase digitada pela pessoa usuária e filtre apenas as palavras com tamanho maior ou igual a 5, exibindo-as em uma lista. Essa demanda é voltada para a análise do padrão de comportamento de pessoas na escrita de palavras acima dessa quantidade de caracteres.\n",
    "\n",
    "#### Use a frase \"Aprender Python aqui na Alura é muito bom\" para testar o código"
   ]
  },
  {
   "cell_type": "code",
   "execution_count": 44,
   "metadata": {},
   "outputs": [
    {
     "name": "stdout",
     "output_type": "stream",
     "text": [
      "['Aprender', 'Python', 'Alura', 'muito']\n"
     ]
    }
   ],
   "source": [
    "def filtrar_palavras(frase):\n",
    "    frase_tratada = frase.replace(',', ' ').replace('.', ' ').replace('?', ' ').replace('!', ' ')\n",
    "    palavras = frase.split()\n",
    "    palavras_filtradas = list(filter(lambda palavra: len(palavra) >= 5, palavras ))\n",
    "    return palavras_filtradas\n",
    "\n",
    "frase = 'Aprender Python aqui na Alura é muito bom'\n",
    "palavras_filtradas = filtrar_palavras(frase)\n",
    "print(palavras_filtradas)"
   ]
  },
  {
   "cell_type": "markdown",
   "metadata": {},
   "source": [
    "## 3 Estruturas de dados"
   ]
  },
  {
   "cell_type": "markdown",
   "metadata": {},
   "source": [
    "#### 1) Crie um código para imprimir a soma dos elementos de cada uma das listas contidas na seguinte lista:\n",
    "#### lista_de_listas = [[4,6,5,9], [1,0,7,2], [3,4,1,8]]"
   ]
  },
  {
   "cell_type": "code",
   "execution_count": 48,
   "metadata": {},
   "outputs": [
    {
     "name": "stdout",
     "output_type": "stream",
     "text": [
      "Soma da 1º lista é 24\n",
      "Soma da 2º lista é 10\n",
      "Soma da 3º lista é 16\n"
     ]
    }
   ],
   "source": [
    "lista_de_listas = [[4,6,5,9], [1,0,7,2], [3,4,1,8]]\n",
    "\n",
    "for lista in lista_de_listas:\n",
    "    soma_lista = sum(lista)\n",
    "    print(f'Soma da {lista_de_listas.index(lista) + 1}º lista é {soma_lista}')"
   ]
  },
  {
   "cell_type": "markdown",
   "metadata": {},
   "source": [
    "#### 2) Crie um código para gerar uma lista que armazena o terceiro elemento de cada tupla contida na seguinte lista de tuplas:\n",
    "\n",
    "#### lista_de_tuplas = [('Pedro', 1.74, 81), ('Júlia', 1.65, 67), ('Otávio', 1.81, 83)]"
   ]
  },
  {
   "cell_type": "code",
   "execution_count": 57,
   "metadata": {},
   "outputs": [
    {
     "name": "stdout",
     "output_type": "stream",
     "text": [
      "[81, 67, 83]\n"
     ]
    }
   ],
   "source": [
    "lista_de_tuplas = [('Pedro', 1.74, 81), ('Júlia', 1.65, 67), ('Otávio', 1.81, 83)]\n",
    "armazena_terceiro_elemento = []\n",
    "\n",
    "for tupla in lista_de_tuplas:\n",
    "    armazena_terceiro_elemento.append(tupla[2])\n",
    "\n",
    "print(armazena_terceiro_elemento)"
   ]
  },
  {
   "cell_type": "markdown",
   "metadata": {},
   "source": [
    "#### 3) A partir da lista: lista = ['Pedro', 'Júlia', 'Otávio', 'Eduardo'], crie um código para gerar uma lista de tuplas em que cada tupla tenha o primeiro elemento como a posição do nome na lista original e o segundo elemento sendo o próprio nome."
   ]
  },
  {
   "cell_type": "code",
   "execution_count": 64,
   "metadata": {},
   "outputs": [
    {
     "name": "stdout",
     "output_type": "stream",
     "text": [
      "[(0, 'Pedro'), (1, 'Júlia'), (2, 'Otávio'), (3, 'Eduardo')]\n"
     ]
    }
   ],
   "source": [
    "lista = ['Pedro', 'Júlia', 'Otávio', 'Eduardo']\n",
    "lista_tuplas = []\n",
    "\n",
    "for i in range(len(lista)):\n",
    "    lista_tuplas.append((i, lista[i]))\n",
    "    \n",
    "print(lista_tuplas)"
   ]
  },
  {
   "cell_type": "markdown",
   "metadata": {},
   "source": [
    "#### 4) Crie uma lista usando o list comprehension que armazena somente o valor numérico de cada tupla caso o primeiro elemento seja 'Apartamento', a partir da seguinte lista de tuplas:\n",
    "\n",
    "#### aluguel = [('Apartamento', 1700), ('Apartamento', 1400), ('Casa', 2150), ('Apartamento', 1900), ('Casa', 1100)]"
   ]
  },
  {
   "cell_type": "code",
   "execution_count": 71,
   "metadata": {},
   "outputs": [
    {
     "data": {
      "text/plain": [
       "[1700, 1400, 1900]"
      ]
     },
     "execution_count": 71,
     "metadata": {},
     "output_type": "execute_result"
    }
   ],
   "source": [
    "aluguel = [('Apartamento', 1700), ('Apartamento', 1400), ('Casa', 2150), ('Apartamento', 1900), ('Casa', 1100)]\n",
    "lista = []\n",
    "primeiro = 'Apartamento'\n",
    "\n",
    "for i in range(len(aluguel)):\n",
    "    #[expressão for item in lista]\n",
    "    lista = [item[1] for item in aluguel if item[0] == primeiro]\n",
    "\n",
    "lista"
   ]
  },
  {
   "cell_type": "markdown",
   "metadata": {},
   "source": [
    "#### 5) Crie um dicionário usando o dict comprehension em que as chaves estão na lista meses = ['Jan', 'Fev', 'Mar', 'Abr', 'Mai', 'Jun', 'Jul', 'Ago', 'Set', 'Out', 'Nov', 'Dez'] e os valores estão na lista despesa = [860, 490, 1010, 780, 900, 630, 590, 770, 620, 560, 840, 360]."
   ]
  },
  {
   "cell_type": "code",
   "execution_count": 76,
   "metadata": {},
   "outputs": [
    {
     "data": {
      "text/plain": [
       "{'Jan': 860,\n",
       " 'Fev': 490,\n",
       " 'Mar': 1010,\n",
       " 'Abr': 780,\n",
       " 'Mai': 900,\n",
       " 'Jun': 630,\n",
       " 'Jul': 590,\n",
       " 'Ago': 770,\n",
       " 'Set': 620,\n",
       " 'Out': 560,\n",
       " 'Nov': 840,\n",
       " 'Dez': 360}"
      ]
     },
     "execution_count": 76,
     "metadata": {},
     "output_type": "execute_result"
    }
   ],
   "source": [
    "meses = ['Jan', 'Fev', 'Mar', 'Abr', 'Mai', 'Jun', 'Jul', 'Ago', 'Set', 'Out', 'Nov', 'Dez']\n",
    "despesa = [860, 490, 1010, 780, 900, 630, 590, 770, 620, 560, 840, 360]\n",
    "\n",
    "#{chave: valor for item in lista}\n",
    "dicionario = {meses[item]: despesa[item] for item in range(len(meses))}\n",
    "dicionario"
   ]
  },
  {
   "cell_type": "markdown",
   "metadata": {},
   "source": [
    "## 3.1 Aplicando a projetos"
   ]
  },
  {
   "cell_type": "markdown",
   "metadata": {},
   "source": [
    "#### 6) Uma loja possui um banco de dados com a informação de venda de cada representante e de cada ano e precisa filtrar somente os dados do ano 2022 com venda maior do que 6000. A loja forneceu uma amostra contendo apenas as colunas com os anos e os valores de venda para que você ajude a realizar a filtragem dos dados a partir de um código:\n",
    "\n",
    "#### vendas = [('2023', 4093), ('2021', 4320), ('2021', 5959), ('2022', 8883), ('2023', 9859), ('2022', 5141), ('2022', 7688), ('2022', 9544), ('2023', 4794), ('2021', 7178), ('2022', 3030), ('2021', 7471), ('2022', 4226), ('2022', 8190), ('2021', 9680), ('2022', 5616)]\n",
    "\n",
    "#### Crie uma lista usando list comprehension para filtrar os valores de 2022 e que sejam maiores que 6000."
   ]
  },
  {
   "cell_type": "code",
   "execution_count": 77,
   "metadata": {},
   "outputs": [
    {
     "data": {
      "text/plain": [
       "[('2022', 8883), ('2022', 7688), ('2022', 9544), ('2022', 8190)]"
      ]
     },
     "execution_count": 77,
     "metadata": {},
     "output_type": "execute_result"
    }
   ],
   "source": [
    "vendas = [('2023', 4093), ('2021', 4320), ('2021', 5959), ('2022', 8883), ('2023', 9859), ('2022', 5141), ('2022', 7688), ('2022', 9544), ('2023', 4794), ('2021', 7178), ('2022', 3030), ('2021', 7471), ('2022', 4226), ('2022', 8190), ('2021', 9680), ('2022', 5616)]\n",
    "filtra_valores = []\n",
    "\n",
    "#[expressão for item in lista]\n",
    "filtra_valores = [tupla for tupla in vendas if tupla[0] == '2022' and tupla[1] > 6000]\n",
    "filtra_valores"
   ]
  },
  {
   "cell_type": "markdown",
   "metadata": {},
   "source": [
    "#### 7) Uma clínica analisa dados de pacientes e armazena o valor numérico da glicose em um banco de dados e gostaria de rotular os dados da seguinte maneira:\n",
    "\n",
    "#### Glicose igual ou inferior a 70: 'Hipoglicemia'\n",
    "#### Glicose entre 70 a 99: 'Normal'\n",
    "#### Glicose entre 100 e 125: 'Alterada'\n",
    "#### Glicose superior a 125: 'Diabetes'\n",
    "\n",
    "#### A clínica disponibilizou parte dos valores e sua tarefa é criar uma lista de tuplas usando list comprehension contendo o rótulo e o valor da glicemia em cada tupla.\n",
    "\n",
    "#### glicemia = [129, 82, 60, 97, 101, 65, 62, 167, 87, 53, 58, 92, 66, 120, 109, 62, 86, 96, 103, 88, 155, 52, 89, 73]"
   ]
  },
  {
   "cell_type": "code",
   "execution_count": 86,
   "metadata": {},
   "outputs": [
    {
     "data": {
      "text/plain": [
       "[('Diabetes', 129),\n",
       " ('Normal', 82),\n",
       " ('Hipoglicemia', 60),\n",
       " ('Normal', 97),\n",
       " ('Alterada', 101),\n",
       " ('Hipoglicemia', 65),\n",
       " ('Hipoglicemia', 62),\n",
       " ('Diabetes', 167),\n",
       " ('Normal', 87),\n",
       " ('Hipoglicemia', 53),\n",
       " ('Hipoglicemia', 58),\n",
       " ('Normal', 92),\n",
       " ('Hipoglicemia', 66),\n",
       " ('Alterada', 120),\n",
       " ('Alterada', 109),\n",
       " ('Hipoglicemia', 62),\n",
       " ('Normal', 86),\n",
       " ('Normal', 96),\n",
       " ('Alterada', 103),\n",
       " ('Normal', 88),\n",
       " ('Diabetes', 155),\n",
       " ('Hipoglicemia', 52),\n",
       " ('Normal', 89),\n",
       " ('Normal', 73)]"
      ]
     },
     "execution_count": 86,
     "metadata": {},
     "output_type": "execute_result"
    }
   ],
   "source": [
    "glicemia = [129, 82, 60, 97, 101, 65, 62, 167, 87, 53, 58, 92, 66, 120, 109, 62, 86, 96, 103, 88, 155, 52, 89, 73]\n",
    "rotulos = []\n",
    "\n",
    "def rotula_dados(lista):\n",
    "    for item in lista:\n",
    "        if item <= 70:\n",
    "            rotulos.append('Hipoglicemia')\n",
    "        elif item > 70 and item <= 99:\n",
    "            rotulos.append('Normal')\n",
    "        elif item >= 100 and item <= 125:\n",
    "            rotulos.append('Alterada')\n",
    "        else:\n",
    "            rotulos.append('Diabetes')\n",
    "    return rotulos\n",
    "\n",
    "rotula_dados(glicemia)\n",
    " \n",
    "#[(x, x**2) for x in range(6)]\n",
    "\n",
    "lista_tupla = [(rotulos[item], glicemia[item]) for item in range(len(glicemia))]\n",
    "lista_tupla\n"
   ]
  },
  {
   "cell_type": "markdown",
   "metadata": {},
   "source": [
    "#### 8) Um e-commerce possui as informações de id de venda, quantidade vendida e preço do produto divididos nas seguintes listas:\n",
    "#### id = [0, 1, 2, 3, 4, 5, 6, 7, 8, 9]\n",
    "#### quantidade = [15, 12, 1, 15, 2, 11, 2, 12, 2, 4]\n",
    "#### preco = [93.0, 102.0, 18.0, 41.0, 122.0, 14.0, 71.0, 48.0, 14.0, 144.0]\n",
    "\n",
    "#### O e-commerce precisa estruturar esses dados em uma tabela contendo o valor total da venda, que é obtida multiplicando a quantidade pelo preço unitário. Além disso, a tabela precisa conter um cabeçalho indicando as colunas: 'id', 'quantidade', 'preco' e 'total'.\n",
    "\n",
    "#### Crie uma lista de tuplas em que cada tupla tenha um id, quantidade, preço e valor total, na qual a primeira tupla é o cabeçalho da tabela."
   ]
  },
  {
   "cell_type": "code",
   "execution_count": 94,
   "metadata": {},
   "outputs": [
    {
     "data": {
      "text/plain": [
       "[('id', 'quantidade', 'preco', 'total'),\n",
       " (0, 15, 93.0, 1395.0),\n",
       " (1, 12, 102.0, 1224.0),\n",
       " (2, 1, 18.0, 18.0),\n",
       " (3, 15, 41.0, 615.0),\n",
       " (4, 2, 122.0, 244.0),\n",
       " (5, 11, 14.0, 154.0),\n",
       " (6, 2, 71.0, 142.0),\n",
       " (7, 12, 48.0, 576.0),\n",
       " (8, 2, 14.0, 28.0),\n",
       " (9, 4, 144.0, 576.0)]"
      ]
     },
     "execution_count": 94,
     "metadata": {},
     "output_type": "execute_result"
    }
   ],
   "source": [
    "id = [0, 1, 2, 3, 4, 5, 6, 7, 8, 9]\n",
    "quantidade = [15, 12, 1, 15, 2, 11, 2, 12, 2, 4]\n",
    "preco = [93.0, 102.0, 18.0, 41.0, 122.0, 14.0, 71.0, 48.0, 14.0, 144.0]\n",
    "\n",
    "#[expressão for item in lista]\n",
    "total = [quantidade[item] * preco[item] for item in range(len(quantidade))]\n",
    "cabecalho = [('id', 'quantidade', 'preco', 'total')]\n",
    "\n",
    "for i in range(len(id)):\n",
    "    tupla = (id[i], quantidade[i], preco[i], total[i])\n",
    "    cabecalho.append(tupla)\n",
    "\n",
    "cabecalho\n",
    "\n"
   ]
  },
  {
   "cell_type": "markdown",
   "metadata": {},
   "source": [
    "#### 9) Uma empresa possui filiais espalhadas nos Estados da região Sudeste do Brasil. Em uma das tabelas de cadastro das filiais há uma coluna contendo a informação de qual é o Estado a que pertence: estados = ['SP', 'ES', 'MG', 'MG', 'SP', 'MG', 'ES', 'ES', 'ES', 'SP', 'SP', 'MG', 'ES', 'SP', 'RJ', 'MG', 'RJ', 'SP', 'MG', 'SP', 'ES', 'SP', 'MG'].\n",
    "\n",
    "#### A empresa sempre está abrindo novas filiais, de modo que a tabela está constantemente recebendo novos registros e o gestor gostaria de possuir a informação atualizada da quantidade de filiais em cada Estado.\n",
    "\n",
    "#### A partir da coluna com a informação dos Estados, crie um dicionário usando dict comprehension com a chave sendo o nome de um Estado e o valor sendo a contagem de vezes em que o Estado aparece na lista."
   ]
  },
  {
   "cell_type": "code",
   "execution_count": 102,
   "metadata": {},
   "outputs": [
    {
     "data": {
      "text/plain": [
       "{'SP': 8, 'ES': 6, 'MG': 7, 'RJ': 2}"
      ]
     },
     "execution_count": 102,
     "metadata": {},
     "output_type": "execute_result"
    }
   ],
   "source": [
    "estados = ['SP', 'ES', 'MG', 'MG', 'SP', 'MG', 'ES', 'ES', 'ES', 'SP', 'SP', 'MG', 'ES', 'SP', 'RJ', 'MG', 'RJ', 'SP', 'MG', 'SP', 'ES', 'SP', 'MG']\n",
    "sudeste = ['SP', 'ES', 'MG', 'RJ']\n",
    "quantidade = []\n",
    "def estado_quantidade(lista):\n",
    "    qtSP = 0\n",
    "    qtRJ = 0\n",
    "    qtMG = 0\n",
    "    qtES = 0\n",
    "    for i in lista:\n",
    "        if i == 'SP':\n",
    "            qtSP += 1\n",
    "        elif i == 'RJ':\n",
    "            qtRJ += 1 \n",
    "        elif i == 'MG':\n",
    "            qtMG += 1\n",
    "        else:\n",
    "            qtES += 1\n",
    "    quantidade.append(qtSP)\n",
    "    quantidade.append(qtES)\n",
    "    quantidade.append(qtMG)\n",
    "    quantidade.append(qtRJ)\n",
    "    return quantidade\n",
    "\n",
    "estado_quantidade(estados)\n",
    "\n",
    "#{chave: valor for item in lista}\n",
    "dicionario = {sudeste[item]: quantidade[item] for item in range(len(sudeste))}\n",
    "dicionario\n",
    "\n",
    "#or\n",
    "#estados = ['SP', 'ES', 'MG', 'MG', 'SP', 'MG', 'ES', 'ES', 'ES', 'SP', 'SP', 'MG', 'ES', 'SP', 'RJ', 'MG', 'RJ', 'SP', 'MG', 'SP', 'ES', 'SP', 'MG']\n",
    "\n",
    "#contagem_filiais = {estado: estados.count(estado) for estado in set(estados)}\n",
    "\n",
    "#print(contagem_filiais)\n",
    "\n",
    "#sobre:\n",
    "#função count() retorna a quantidade de vezes que um mesmo elemento está contido numa lista\n",
    "#set(estados) cria um conjunto contendo apenas os elementos únicos da lista estados. \n",
    "#Isso significa que se houver elementos repetidos na lista, eles serão removidos e apenas uma ocorrência de cada elemento único será mantida no conjunto.\n",
    "#Isso é útil para evitar que a contagem de filiais seja afetada por duplicatas na lista.\n",
    "#print(contagem_filiais)"
   ]
  },
  {
   "cell_type": "markdown",
   "metadata": {},
   "source": [
    "#### 10) Nessa mesma tabela de cadastro de filiais, há uma coluna com as informações da quantidade de funcionários e o gestor gostaria de ter um agrupamento da soma de funcionários para cada estado. As informações contidas na tabela são:\n",
    "\n",
    "#### funcionarios = [('SP', 16), ('ES', 8), ('MG', 9), ('MG', 6), ('SP', 10), ('MG', 4), ('ES',9), ('ES', 7), ('ES', 12), ('SP', 7), ('SP', 11), ('MG',8), ('ES',8), ('SP',9), ('RJ', 13), ('MG', 5), ('RJ', 9), ('SP', 12), ('MG', 10), ('SP', 7), ('ES', 14), ('SP', 10), ('MG', 12)]\n",
    "\n",
    "#### A partir da lista de tuplas, crie um dicionário em que as chaves são os nomes dos Estados únicos e os valores são as listas com o número de funcionários referentes ao Estado. Crie também um dicionário em que as chaves são os nomes dos Estados e os valores são a soma de funcionários por Estado."
   ]
  },
  {
   "cell_type": "code",
   "execution_count": 107,
   "metadata": {},
   "outputs": [
    {
     "name": "stdout",
     "output_type": "stream",
     "text": [
      "defaultdict(<class 'list'>, {'SP': [16, 10, 7, 11, 9, 12, 7, 10], 'ES': [8, 9, 7, 12, 8, 14], 'MG': [9, 6, 4, 8, 5, 10, 12], 'RJ': [13, 9]})\n",
      "Funcionários por estado:\n",
      "SP [16, 10, 7, 11, 9, 12, 7, 10]\n",
      "ES [8, 9, 7, 12, 8, 14]\n",
      "MG [9, 6, 4, 8, 5, 10, 12]\n",
      "RJ [13, 9]\n"
     ]
    }
   ],
   "source": [
    "from collections import defaultdict\n",
    "\n",
    "funcionarios = [('SP', 16), ('ES', 8), ('MG', 9), ('MG', 6), ('SP', 10), ('MG', 4), ('ES',9), ('ES', 7), ('ES', 12), ('SP', 7), ('SP', 11), ('MG',8), ('ES',8), ('SP',9), ('RJ', 13), ('MG', 5), ('RJ', 9), ('SP', 12), ('MG', 10), ('SP', 7), ('ES', 14), ('SP', 10), ('MG', 12)]\n",
    "\n",
    "# Dicionário com as listas de funcionários por estado\n",
    "funcionarios_por_estado = defaultdict(list)\n",
    "for estado, num_funcionarios in funcionarios:\n",
    "    funcionarios_por_estado[estado].append(num_funcionarios)\n",
    "\n",
    "print(\"Funcionários por estado:\")\n",
    "for estado, lista_funcionarios in funcionarios_por_estado.items():\n",
    "    print(estado, lista_funcionarios)\n",
    "\n",
    "# Dicionário com a soma de funcionários por estado\n",
    "soma_funcionarios_por_estado = {}\n",
    "for estado, lista_funcionarios in funcionarios_por_estado.items():\n",
    "    soma_funcionarios = sum(lista_funcionarios)\n",
    "    soma_funcionarios_por_estado[estado] = soma_funcionarios\n",
    "\n",
    "print(\"\\nSoma de funcionários por estado:\")\n",
    "for estado, soma_funcionarios in soma_funcionarios_por_estado.items():\n",
    "    print(estado, soma_funcionarios)\n",
    "\n",
    "\n",
    "#Sobre:\n",
    "#defaultdict(list)\n",
    "#  A função defaultdict é útil quando você precisa de um dicionário em que as chaves estejam associadas a um tipo específico de valor,\n",
    "#como uma lista, e deseja evitar verificar se a chave já existe antes de adicionar um elemento a ela.\n",
    "#  No exemplo fornecido, funcionarios_por_estado é criado como um defaultdict usando defaultdict(list).\n",
    "#Isso significa que, se uma chave ainda não existe no dicionário, ela será automaticamente associada a uma lista vazia. \n",
    "#Portanto, você pode usar funcionarios_por_estado[estado].append(num_funcionarios) diretamente, sem a necessidade de verificar e inicializar manualmente a lista para cada estado.\n",
    "#  No caso específico do exemplo, funcionarios_por_estado será um dicionário em que as chaves são os nomes dos estados e\n",
    "#os valores são listas que armazenam os números de funcionários correspondentes a cada estado.\n",
    "\n",
    "\n",
    "\n"
   ]
  },
  {
   "cell_type": "markdown",
   "metadata": {},
   "source": [
    "## 4 Lidando com exceções"
   ]
  },
  {
   "cell_type": "markdown",
   "metadata": {},
   "source": [
    "#### 1) Faça um programa que solicite à pessoa usuária digitar dois números float e calcular a divisão entre esses números. O código deve conter um tratamento de erro, indicando o tipo de erro que foi gerado caso a divisão não seja possível de realizar.\n",
    "\n",
    "#### Teste o programa com o segundo valor numérico do input igual a 0 e também teste utilizando caracteres textuais no input para checar os tipos de erro que ocorrem."
   ]
  },
  {
   "cell_type": "code",
   "execution_count": 135,
   "metadata": {},
   "outputs": [
    {
     "name": "stdout",
     "output_type": "stream",
     "text": [
      "Ocorreu um erro:  could not convert string to float: 'dsd'\n",
      "Programa finalizado !!!\n"
     ]
    }
   ],
   "source": [
    "try:\n",
    "    n1 = float(input('Entre com o primeiro número: '))\n",
    "    n2 = float(input('Entre com o segundo número: '))\n",
    "    calculo = n1 / n2\n",
    "    if(n1 % n2 != 0):\n",
    "        raise ValueError('Número divisor inválido, não tem como realizar a divisão')\n",
    "except Exception:\n",
    "    print(\"Só são aceitos valores numéricos!\")\n",
    "except ValueError as e:\n",
    "    print(e)\n",
    "except ZeroDivisionError:\n",
    "    print('Número divisor não pode ser 0')\n",
    "else:\n",
    "     print(calculo)\n",
    "finally:\n",
    "    print('Programa finalizado !!!')"
   ]
  },
  {
   "cell_type": "markdown",
   "metadata": {},
   "source": [
    "#### 2) Faça um programa que solicite à pessoa usuária digitar um texto que será uma chave a ser pesquisada no seguinte dicionário: idades = {'Júlia': 16, 'Carol': 23, 'Alberto': 19, 'Roberta': 17}, armazenando o resultado do valor em uma variável. O código deve conter um tratamento de erro KeyError, imprimindo a informação 'Nome não encontrado' caso ocorra o erro e imprimir o valor caso não ocorra nenhum.\n",
    "\n",
    "#### Teste o programa com um nome presente em uma das chaves do dicionário e com um que não esteja no dicionário para verificar a mensagem de erro."
   ]
  },
  {
   "cell_type": "code",
   "execution_count": 4,
   "metadata": {},
   "outputs": [
    {
     "name": "stdout",
     "output_type": "stream",
     "text": [
      "Nome não encontrado.\n"
     ]
    }
   ],
   "source": [
    "idades = {'Júlia': 16, 'Carol': 23, 'Alberto': 19, 'Roberta': 17}\n",
    "\n",
    "texto = input('Entre com o nome a ser pesquisado no dicionario: ')\n",
    "\n",
    "try:\n",
    "    valor = idades[texto]\n",
    "    print(f'A idade de {texto} é {valor}')\n",
    "except KeyError:\n",
    "    print('Nome não encontrado.')"
   ]
  },
  {
   "cell_type": "markdown",
   "metadata": {},
   "source": [
    "#### 3) Crie uma função que recebe uma lista como parâmetro e converta todos os valores da lista para float. A função deve conter um tratamento de erro indicando o tipo de erro gerado e retornar a lista caso não tenha ocorrido nenhum erro. Por fim, deve ter a cláusula finally para imprimir o texto: 'Fim da execução da função'."
   ]
  },
  {
   "cell_type": "code",
   "execution_count": 18,
   "metadata": {},
   "outputs": [],
   "source": [
    "def converte_float(lista):\n",
    "    try:\n",
    "        lista_float = [float(i) for i in lista]\n",
    "        return lista_float\n",
    "    except ValueError as e:\n",
    "        print(f'Erro do valor inválido: {e}')\n",
    "    except Exception as erro:\n",
    "        print(f'Erro desconhecido: {type(erro)}')\n",
    "    finally:\n",
    "        print('Fim da execução da função')"
   ]
  },
  {
   "cell_type": "code",
   "execution_count": 19,
   "metadata": {},
   "outputs": [
    {
     "name": "stdout",
     "output_type": "stream",
     "text": [
      "Erro do valor inválido: could not convert string to float: 'abc'\n",
      "Fim da execução da função\n"
     ]
    }
   ],
   "source": [
    "lista = [12, 'abc', 10, '3', 7.7]\n",
    "resultado = converte_float(lista)\n",
    "if resultado:\n",
    "    print(resultado)"
   ]
  },
  {
   "cell_type": "markdown",
   "metadata": {},
   "source": [
    "#### 4) Crie uma função que recebe duas listas como parâmetros e agrupe os elementos um a um das listas, formando uma lista de tuplas de 3 elementos, no qual o primeiro e segundo elemento da tupla são os valores na posição i das listas e o terceiro elemento é a soma dos valores na posição i das listas.\n",
    "\n",
    "#### A função deve conter um tratamento de erro indicando o tipo de erro gerado e retornar como resultado a lista de tuplas. Caso as listas enviadas como parâmetro tenham tamanhos diferentes, a função deve retornar um IndexError com a frase: 'A quantidade de elementos em cada lista é diferente.'\n",
    "\n",
    "#### Dados para testar a função:\n",
    "\n",
    "#### Valores sem erro:\n",
    "\n",
    "#### lista1 = [4,6,7,9,10]\n",
    "#### lista2 = [-4,6,8,7,9]\n",
    "\n",
    "#### Listas com tamanhos diferentes:\n",
    "\n",
    "#### lista1 = [4,6,7,9,10,4]\n",
    "#### lista2 = [-4,6,8,7,9]\n",
    "\n",
    "#### Listas com valores incoerentes:\n",
    "\n",
    "#### lista1 = [4,6,7,9,'A']\n",
    "#### lista2 = [-4,'E',8,7,9]"
   ]
  },
  {
   "cell_type": "code",
   "execution_count": 43,
   "metadata": {},
   "outputs": [],
   "source": [
    "def trata_listas(lista, lista2):\n",
    "    try:\n",
    "        if len(lista) != len(lista2):\n",
    "            raise IndexError('A quantidade de elementos em cada lista é diferente')\n",
    "        \n",
    "        junta_listas = [(lista[i], lista2[i], lista[i] + lista2[i]) for i in range(len(lista))]\n",
    "        return junta_listas            \n",
    "    except IndexError as e:\n",
    "        return e\n",
    "    except Exception as erro:\n",
    "        return f'Erro do tipo: {type(erro)}'\n",
    "    "
   ]
  },
  {
   "cell_type": "code",
   "execution_count": 47,
   "metadata": {},
   "outputs": [
    {
     "name": "stdout",
     "output_type": "stream",
     "text": [
      "[(4, -4, 0), (6, 6, 12), (7, 8, 15), (9, 7, 16), (10, 9, 19)]\n",
      "A quantidade de elementos em cada lista é diferente\n",
      "Erro do tipo: <class 'TypeError'>\n"
     ]
    }
   ],
   "source": [
    "#Testando...\n",
    "# Valores sem erro\n",
    "l1 = [4,6,7,9,10]\n",
    "l2 = [-4,6,8,7,9]\n",
    "\n",
    "# Listas com tamanhos diferentes\n",
    "list1 = [4,6,7,9,10,4]\n",
    "list2 = [-4,6,8,7,9]\n",
    "\n",
    "# Listas com valores incoerentes\n",
    "lista1 = [4,6,7,9,'A']\n",
    "lista2 = [-4,'E',8,7,9]\n",
    "\n",
    "resultado = trata_listas(l1, l2)\n",
    "resultado2 = trata_listas(list1, list2)\n",
    "resultado3 = trata_listas(lista1, lista2)\n",
    "\n",
    "print(resultado)\n",
    "print(resultado2)\n",
    "print(resultado3)"
   ]
  },
  {
   "cell_type": "markdown",
   "metadata": {},
   "source": [
    "## 4.1 Aplicando a projetos\n"
   ]
  },
  {
   "cell_type": "markdown",
   "metadata": {},
   "source": [
    "#### 5) Você recebeu como desafio desenvolver um código que contabiliza as pontuações de estudantes de uma instituição de ensino de acordo com suas respostas num teste.\n",
    "\n",
    "#### Este código deve ser testado para um exemplo de 3 estudantes com uma lista de listas em que cada lista possui as respostas de 5 questões objetivas de cada estudante. Cada questão vale um ponto e as alternativas possíveis são A, B, C ou D.\n",
    "\n",
    "#### Caso alguma alternativa em um dos testes não esteja entre as alternativas possíveis você deve lançar um ValueError com a mensagem \"A alternativa [alternativa] não é uma opção de alternativa válida\". O cálculo das 3 notas só será realizado mediante as entradas com as alternativas A, B, C ou D em todos os testes.\n",
    "\n",
    "#### Se não for lançada a exceção, será exibida uma lista com as notas em cada teste.\n",
    "\n",
    "#### Os dados para o teste do código são:\n",
    "\n",
    "#### Gabarito da prova:\n",
    "\n",
    "#### gabarito = ['D', 'A', 'B', 'C', 'A']\n",
    "\n",
    "#### Abaixo temos 2 listas de listas que você pode usar como teste\n",
    "\n",
    "#### Notas sem exceção:\n",
    "\n",
    "#### testes_sem_ex = [['D', 'A', 'B', 'C', 'A'], ['C', 'A', 'A', 'C', 'A'], ['D', 'B', 'A', 'C', 'A']]\n",
    "\n",
    "#### Notas com exceção:\n",
    "\n",
    "#### testes_com_ex = [['D', 'A', 'B', 'C', 'A'], ['C', 'A', 'A', 'E', 'A'], ['D', 'B', 'A', 'C', 'A']]\n",
    "\n",
    "#### Dica: Para verificar se uma entrada da lista não está entre as alternativas possíveis use a estrutura lista[i] not in ['A','B','C','D'] (Por exemplo, 1 not in [2,3,4]... Saída: True).\n"
   ]
  },
  {
   "cell_type": "code",
   "execution_count": 51,
   "metadata": {},
   "outputs": [
    {
     "name": "stdout",
     "output_type": "stream",
     "text": [
      "Notas sem exceção: [5, 3, 3]\n",
      "Uma ou mais respostas não são opções válidas.\n"
     ]
    }
   ],
   "source": [
    "def calcular_notas(testes, gabarito):\n",
    "    notas = []\n",
    "    \n",
    "    for teste in testes:\n",
    "        if len(teste) != len(gabarito):\n",
    "            raise ValueError(\"A quantidade de respostas no teste é diferente do gabarito.\")\n",
    "        \n",
    "        if any(resposta not in ['A', 'B', 'C', 'D'] for resposta in teste):\n",
    "            raise ValueError(\"Uma ou mais respostas não são opções válidas.\")\n",
    "        \n",
    "        nota = sum(resposta == gabarito[i] for i, resposta in enumerate(teste))\n",
    "        notas.append(nota)\n",
    "    \n",
    "    return notas\n",
    "\n",
    "\n",
    "gabarito = ['D', 'A', 'B', 'C', 'A']\n",
    "testes_sem_ex = [['D', 'A', 'B', 'C', 'A'], ['C', 'A', 'A', 'C', 'A'], ['D', 'B', 'A', 'C', 'A']]\n",
    "testes_com_ex = [['D', 'A', 'B', 'C', 'A'], ['C', 'A', 'A', 'E', 'A'], ['D', 'B', 'A', 'C', 'A']]\n",
    "\n",
    "try:\n",
    "    notas_sem_ex = calcular_notas(testes_sem_ex, gabarito)\n",
    "    print(\"Notas sem exceção:\", notas_sem_ex)\n",
    "except ValueError as erro:\n",
    "    print(erro)\n",
    "\n",
    "try:\n",
    "    notas_com_ex = calcular_notas(testes_com_ex, gabarito)\n",
    "    print(\"Notas com exceção:\", notas_com_ex)\n",
    "except ValueError as erro:\n",
    "    print(erro)\n",
    "\n",
    "    #Sobre:\n",
    "#Função any()\n",
    "\n",
    "#   A função any() é uma função embutida em Python que recebe um iterável (como uma lista, tupla, conjunto, etc.)\n",
    "#como argumento e retorna True se pelo menos um elemento do iterável for verdadeiro, e retorna False caso contrário."
   ]
  },
  {
   "cell_type": "markdown",
   "metadata": {},
   "source": [
    "#### 6) Você está trabalhando com processamento de linguagem natural (NLP) e, dessa vez, sua líder requisitou que você criasse um trecho de código que recebe uma lista com as palavras separadas de uma frase gerada pelo ChatGPT.\n",
    "\n",
    "#### Você precisa criar uma função que avalia cada palavra desse texto e verificar se o tratamento para retirar os símbolos de pontuação (',' '.', '!' e '?') foi realizado. Caso contrário, será lançada uma exceção do tipo ValueError apontando o 1º caso em que foi detectado o uso de uma pontuação por meio da frase \"O texto apresenta pontuações na palavra \"[palavra]\".\".\n",
    "\n",
    "#### Essa demanda é voltada para a análise do padrão de frases geradas pela inteligência artificial.\n",
    "\n",
    "#### Dica: Para verificar se uma ou mais das pontuações estão presentes em cada palavra, utilize a palavra chave or na condição if (Por exemplo, ('a' or 'b') in 'alura' ... Saída: True)\n",
    "\n",
    "#### Os dados para o teste do código são:\n",
    "\n",
    "#### Lista tratada:\n",
    "\n",
    "#### lista_tratada = ['Python', 'é', 'uma', 'linguagem', 'de', 'programação', 'poderosa', 'versátil',\n",
    "####                'e', 'fácil', 'de', 'aprender', 'utilizada', 'em', 'diversos', 'campos', 'desde',\n",
    "####                'análise', 'de', 'dados', 'até', 'inteligência', 'artificial']\n",
    "\n",
    "#### Lista não tratada:\n",
    "\n",
    "#### lista_nao_tratada = ['Python', 'é', 'uma', 'linguagem', 'de', 'programação', 'poderosa,', 'versátil',\n",
    "####                'e', 'fácil,', 'de', 'aprender', 'utilizada', 'em', 'diversos', 'campos,', 'desde',\n",
    "####                'análise', 'de', 'dados', 'até', 'inteligência', 'artificial!']"
   ]
  },
  {
   "cell_type": "code",
   "execution_count": 52,
   "metadata": {},
   "outputs": [
    {
     "name": "stdout",
     "output_type": "stream",
     "text": [
      "A lista tratada não apresenta pontuações.\n",
      "O texto apresenta pontuações na palavra 'poderosa,'.\n"
     ]
    }
   ],
   "source": [
    "def verificar_pontuacao(lista):\n",
    "    pontuacoes = [',', '.', '!', '?']\n",
    "    \n",
    "    for palavra in lista:\n",
    "        if any(pontuacao in palavra for pontuacao in pontuacoes):\n",
    "            raise ValueError(f\"O texto apresenta pontuações na palavra '{palavra}'.\")\n",
    "    \n",
    "    return True\n",
    "\n",
    "\n",
    "lista_tratada = ['Python', 'é', 'uma', 'linguagem', 'de', 'programação', 'poderosa', 'versátil',\n",
    "                'e', 'fácil', 'de', 'aprender', 'utilizada', 'em', 'diversos', 'campos', 'desde',\n",
    "                'análise', 'de', 'dados', 'até', 'inteligência', 'artificial']\n",
    "\n",
    "lista_nao_tratada = ['Python', 'é', 'uma', 'linguagem', 'de', 'programação', 'poderosa,', 'versátil',\n",
    "                'e', 'fácil,', 'de', 'aprender', 'utilizada', 'em', 'diversos', 'campos,', 'desde',\n",
    "                'análise', 'de', 'dados', 'até', 'inteligência', 'artificial!']\n",
    "\n",
    "try:\n",
    "    verificar_pontuacao(lista_tratada)\n",
    "    print(\"A lista tratada não apresenta pontuações.\")\n",
    "except ValueError as erro:\n",
    "    print(erro)\n",
    "\n",
    "try:\n",
    "    verificar_pontuacao(lista_nao_tratada)\n",
    "    print(\"A lista não tratada não apresenta pontuações.\")\n",
    "except ValueError as erro:\n",
    "    print(erro)\n",
    "\n",
    "#Sobre:\n",
    "#Função any()\n",
    "\n",
    "\n",
    "#   A função any() é uma função embutida em Python que recebe um iterável (como uma lista, tupla, conjunto, etc.)\n",
    "#como argumento e retorna True se pelo menos um elemento do iterável for verdadeiro, e retorna False caso contrário.\n"
   ]
  },
  {
   "cell_type": "markdown",
   "metadata": {},
   "source": [
    "#### 7) Você foi contratado(a) como uma pessoa cientista de dados para auxiliar um laboratório que faz experimentos sobre o comportamento de uma cultura de fungos. O laboratório precisa avaliar constantemente a razão (divisão) entre os dados de pressão e temperatura do ambiente controlado recolhidos durante a experimentação para definir a melhor condição para os testes.\n",
    "\n",
    "#### Para cumprir com a demanda, você precisa criar uma função divide_colunas que recebe os dados das colunas de pressão e temperatura (que vem no formato de listas) e gerar uma nova coluna com o resultado da divisão. Os parâmetros da função são as duas listas e você deve tratar dentro dela ao menos 2 tipos de exceções:\n",
    "\n",
    "#### Verificar se as listas têm o mesmo tamanho (ValueError)\n",
    "#### Verificar se existe alguma divisão por zero (ZeroDivisionError)\n",
    "#### Para testar a função, vamos realizar a divisão entre duas listas de dados coletados no experimento, com os valores de pressão e temperatura do ambiente controlado.\n",
    "\n",
    "#### Como teste, use os seguintes dados:\n",
    "\n",
    "#### pressoes = [100, 120, 140, 160, 180]\n",
    "#### temperaturas = [20, 25, 30, 35, 40]\n",
    "\n",
    "#### Dados com exceção:\n",
    "\n",
    "#### 1) Exceção de ZeroDivisionError\n",
    "\n",
    "#### pressoes = [60, 120, 140, 160, 180]\n",
    "#### temperaturas = [0, 25, 30, 35, 40]\n",
    "\n",
    "#### 2) Exceção de ValueError\n",
    "\n",
    "#### pressoes = [100, 120, 140, 160]\n",
    "#### temperaturas = [20, 25, 30, 35, 40]\n",
    "\n",
    "#### Dica: Você pode usar zip() para parear os dados da lista_1 com a lista_2. Crie uma estrutura try-except que caso uma das exceções sejam lançadas, podemos ver o tipo de erro na saída.\n"
   ]
  },
  {
   "cell_type": "code",
   "execution_count": 64,
   "metadata": {},
   "outputs": [
    {
     "name": "stdout",
     "output_type": "stream",
     "text": [
      "Resultado: [5.0, 4.8, 4.666666666666667, 4.571428571428571, 4.5]\n",
      "Resultado: Divisão por zero encontrada.\n",
      "Resultado: As listas têm tamanhos diferentes.\n"
     ]
    }
   ],
   "source": [
    "def divide_colunas(pressoes, temperaturas):\n",
    "    try:\n",
    "        if len(pressoes) != len(temperaturas):\n",
    "            raise ValueError(\"As listas têm tamanhos diferentes.\")\n",
    "        \n",
    "        resultado = []\n",
    "        \n",
    "        for pressao, temperatura in zip(pressoes, temperaturas):\n",
    "            if temperatura == 0:\n",
    "                raise ZeroDivisionError(\"Divisão por zero encontrada.\")\n",
    "            \n",
    "            resultado.append(pressao / temperatura)\n",
    "        \n",
    "        return resultado\n",
    "    \n",
    "    except ValueError as erro:\n",
    "        return str(erro)\n",
    "    \n",
    "    except ZeroDivisionError as erro:\n",
    "        return str(erro)\n",
    "\n",
    "pressoes = [100, 120, 140, 160, 180]\n",
    "temperaturas = [20, 25, 30, 35, 40]\n",
    "\n",
    "resultado = divide_colunas(pressoes, temperaturas)\n",
    "print(\"Resultado:\", resultado)\n",
    "\n",
    "# Teste com exceção ZeroDivisionError\n",
    "pressoes = [60, 120, 140, 160, 180]\n",
    "temperaturas = [0, 25, 30, 35, 40]\n",
    "\n",
    "resultado = divide_colunas(pressoes, temperaturas)\n",
    "print(\"Resultado:\", resultado)\n",
    "\n",
    "# Teste com exceção ValueError\n",
    "pressoes = [100, 120, 140, 160]\n",
    "temperaturas = [20, 25, 30, 35, 40]\n",
    "\n",
    "resultado = divide_colunas(pressoes, temperaturas)\n",
    "print(\"Resultado:\", resultado)"
   ]
  },
  {
   "cell_type": "markdown",
   "metadata": {},
   "source": []
  }
 ],
 "metadata": {
  "kernelspec": {
   "display_name": "Python 3",
   "language": "python",
   "name": "python3"
  },
  "language_info": {
   "codemirror_mode": {
    "name": "ipython",
    "version": 3
   },
   "file_extension": ".py",
   "mimetype": "text/x-python",
   "name": "python",
   "nbconvert_exporter": "python",
   "pygments_lexer": "ipython3",
   "version": "3.11.1"
  },
  "orig_nbformat": 4
 },
 "nbformat": 4,
 "nbformat_minor": 2
}
