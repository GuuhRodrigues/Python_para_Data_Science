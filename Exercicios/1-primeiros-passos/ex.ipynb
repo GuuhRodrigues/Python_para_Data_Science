{
 "cells": [
  {
   "attachments": {},
   "cell_type": "markdown",
   "metadata": {},
   "source": [
    "#### 1) Faça um programa que tenha a seguinte lista contendo os valores de gastos de uma empresa de papel [2172.54, 3701.35, 3518.09, 3456.61, 3249.38, 2840.82, 3891.45, 3075.26, 2317.64, 3219.08]. Com esses valores, faça um programa que calcule a média de gastos. Dica, use as funções built-in sum() e len()."
   ]
  },
  {
   "cell_type": "code",
   "execution_count": 6,
   "metadata": {},
   "outputs": [
    {
     "name": "stdout",
     "output_type": "stream",
     "text": [
      "31442.22\n",
      "10\n",
      "3144.222\n"
     ]
    }
   ],
   "source": [
    "lista = [2172.54, 3701.35, 3518.09, 3456.61, 3249.38, 2840.82, 3891.45, 3075.26, 2317.64, 3219.08]\n",
    "\n",
    "total_gastos = sum(lista)\n",
    "qt_item = len(lista)\n",
    "\n",
    "media = total_gastos/qt_item\n",
    "\n",
    "print(total_gastos)\n",
    "print(qt_item)\n",
    "print(media)\n"
   ]
  },
  {
   "attachments": {},
   "cell_type": "markdown",
   "metadata": {},
   "source": [
    "#### 2) Com os mesmos dados da questão anterior, defina quantas compras foram acima de 3000 reais e calcule a porcentagem quanto ao total de compras."
   ]
  },
  {
   "cell_type": "code",
   "execution_count": 12,
   "metadata": {},
   "outputs": [
    {
     "name": "stdout",
     "output_type": "stream",
     "text": [
      "A quantidade de compras que forama cima de 3000 é 7 e a porcentagem quanto ao total é de 30%\n"
     ]
    }
   ],
   "source": [
    "lista = [2172.54, 3701.35, 3518.09, 3456.61, 3249.38, 2840.82, 3891.45, 3075.26, 2317.64, 3219.08]\n",
    "total = len(lista)\n",
    "\n",
    "for item in lista:\n",
    "    if item < 3000:\n",
    "        lista.remove(item)\n",
    "\n",
    "quantidade = len(lista)\n",
    "porcentagem = (total - quantidade) * 10\n",
    "\n",
    "print(f'A quantidade de compras que forama cima de 3000 é {quantidade} e a porcentagem quanto ao total é de {porcentagem}%')\n",
    "\n"
   ]
  },
  {
   "attachments": {},
   "cell_type": "markdown",
   "metadata": {},
   "source": [
    "#### 3) Faça um código que colete em uma lista 5 números inteiros quaisquer e imprima a lista. Exemplo: [1,4,7,2,4]."
   ]
  },
  {
   "cell_type": "code",
   "execution_count": 22,
   "metadata": {},
   "outputs": [
    {
     "name": "stdout",
     "output_type": "stream",
     "text": [
      "[10, 20, 30, 40, 50]\n"
     ]
    }
   ],
   "source": [
    "lista = []\n",
    "\n",
    "for i in range(1,6):\n",
    "    lista.append(int(input(\"Entre com o {i}º número: )\")))\n",
    "\n",
    "print(lista)"
   ]
  },
  {
   "attachments": {},
   "cell_type": "markdown",
   "metadata": {},
   "source": [
    "#### 4) Colete novamente 5 inteiros e imprima a lista em ordem inversa à enviada."
   ]
  },
  {
   "cell_type": "code",
   "execution_count": 35,
   "metadata": {},
   "outputs": [
    {
     "name": "stdout",
     "output_type": "stream",
     "text": [
      "Ordem inversa: [50, 40, 30, 20, 10]\n"
     ]
    }
   ],
   "source": [
    "lista = []\n",
    "\n",
    "for i in range(1,6):\n",
    "    lista.append(int(input(\"Entre com o {i}º número: )\")))\n",
    "\n",
    "lista.reverse()\n",
    "print('Ordem inversa:', lista)"
   ]
  },
  {
   "attachments": {},
   "cell_type": "markdown",
   "metadata": {},
   "source": [
    "#### 5) Faça um programa que, ao inserir um número qualquer, criará uma lista contendo todos os números primos entre 1 e o número digitado."
   ]
  },
  {
   "cell_type": "code",
   "execution_count": 45,
   "metadata": {},
   "outputs": [
    {
     "name": "stdout",
     "output_type": "stream",
     "text": [
      "Números primos até 100 :\n",
      "[2, 3, 5, 7, 11, 13, 17, 19, 23, 29, 31, 37, 41, 43, 47, 53, 59, 61, 67, 71, 73, 79, 83, 89, 97]\n"
     ]
    }
   ],
   "source": [
    "def e_primo(num):\n",
    "    #Verifica se o número é primo\n",
    "    if num < 2:\n",
    "        return False\n",
    "    for i in range(2, num):\n",
    "        if num % i == 0:\n",
    "            return False\n",
    "    return True\n",
    "\n",
    "numero = int(input(\"Digite um número: \"))\n",
    "lista = []\n",
    "for num in range (2, numero + 1):\n",
    "    if e_primo(num):\n",
    "        lista.append(num)\n",
    "\n",
    "print(\"Números primos até\", numero, \":\")\n",
    "print(lista)\n"
   ]
  },
  {
   "attachments": {},
   "cell_type": "markdown",
   "metadata": {},
   "source": [
    "#### 6) Escreva um programa que peça uma data informando o dia, mês e ano e determine se ela é uma data válida para uma análise."
   ]
  },
  {
   "cell_type": "code",
   "execution_count": null,
   "metadata": {},
   "outputs": [],
   "source": [
    "def verificar_data(dia, mes, ano):\n",
    "    # Verifica se o ano é bissexto\n",
    "    if ano % 4 == 0 and (ano % 100 != 0 or ano % 400 == 0):\n",
    "        dias_no_mes = [31, 29, 31, 30, 31, 30, 31, 31, 30, 31, 30, 31]\n",
    "    else:\n",
    "        dias_no_mes = [31, 28, 31, 30, 31, 30, 31, 31, 30, 31, 30, 31]\n",
    "\n",
    "    # Verifica se o mês e o dia estão dentro dos limites\n",
    "    if mes < 1 or mes > 12 or dia < 1 or dia > dias_no_mes[mes - 1]:\n",
    "        return False\n",
    "    else:\n",
    "        return True\n",
    "\n",
    "# Obtém a entrada do usuário\n",
    "dia = int(input(\"Digite o dia: \"))\n",
    "mes = int(input(\"Digite o mês: \"))\n",
    "ano = int(input(\"Digite o ano: \"))\n",
    "\n",
    "# Verifica se a data é válida\n",
    "if verificar_data(dia, mes, ano):\n",
    "    print(\"A data é válida.\")\n",
    "else:\n",
    "    print(\"A data é inválida.\")\n"
   ]
  },
  {
   "attachments": {},
   "cell_type": "markdown",
   "metadata": {},
   "source": [
    "#### 7) Para um estudo envolvendo o nível de multiplicação de bactérias em uma colônia, foi coletado o número de bactérias multiplicadas por dia e pode ser observado a seguir: [1.2, 2.1, 3.3, 5.0, 7.8, 11.3, 16.6, 25.1, 37.8, 56.9]. Tendo esses valores, faça um código que gere uma lista contendo o percentual de crescimento de bactérias por dia, comparando o número de bactérias em cada dia com o número de bactérias do dia anterior. Dica: para calcular o percentual de crescimento usamos a seguinte equação: 100 * (amostra_atual - amostra_passada) / (amostra_passada)."
   ]
  },
  {
   "cell_type": "code",
   "execution_count": 58,
   "metadata": {},
   "outputs": [
    {
     "name": "stdout",
     "output_type": "stream",
     "text": [
      "75.000000% - 57.142857% - 51.515152% - 56.000000% - 44.871795% - 46.902655% - 51.204819% - 50.597610% - 50.529101% - "
     ]
    }
   ],
   "source": [
    "lista = [1.2, 2.1, 3.3, 5.0, 7.8, 11.3, 16.6, 25.1, 37.8, 56.9]\n",
    "lista2 = []\n",
    "\n",
    "for i in range(1, len(lista)):\n",
    "    amostra_atual = lista[i]\n",
    "    amostra_passada = lista[i - 1]\n",
    "    percentual = 100 * (amostra_atual - amostra_passada) / amostra_passada\n",
    "    lista2.append(percentual)\n",
    "\n",
    "for item in lista2:\n",
    "    print(f'{item:2f}%', end = ' - ')\n"
   ]
  },
  {
   "attachments": {},
   "cell_type": "markdown",
   "metadata": {},
   "source": [
    "#### 8) Para uma seleção de produtos alimentícios, precisamos separar o conjunto de IDs dados por números inteiros, sabendo que os produtos com ID par são doces e os com ID ímpar são amargos. Monte um código que colete 10 IDs. Depois, calcule e mostre a quantidade de produtos doces e amargos."
   ]
  },
  {
   "cell_type": "code",
   "execution_count": 64,
   "metadata": {},
   "outputs": [
    {
     "name": "stdout",
     "output_type": "stream",
     "text": [
      "A quantidade de produtos doces é 4 e a quantidade de produtos amargos é 6\n"
     ]
    }
   ],
   "source": [
    "lista_ID = []\n",
    "for i in range (1,11):\n",
    "    lista_ID.append(int(input(f'Entre com o {i}º ID: ')))\n",
    "doces = 0\n",
    "amargos = 0\n",
    "for id in lista_ID:\n",
    "    if id % 2 == 0:\n",
    "        doces = doces + 1\n",
    "    if id % 2 == 1:\n",
    "        amargos = amargos + 1\n",
    "\n",
    "print(f'A quantidade de produtos doces é {doces} e a quantidade de produtos amargos é {amargos}')"
   ]
  },
  {
   "attachments": {},
   "cell_type": "markdown",
   "metadata": {},
   "source": [
    "#### 9) Desenvolva um programa que informa a nota de um aluno de acordo com suas respostas. Ele deve pedir a resposta de um aluno para cada questão e é preciso verificar se a resposta foi igual ao gabarito. Cada questão vale um ponto e existem alternativas: A, B, C ou D."
   ]
  },
  {
   "cell_type": "code",
   "execution_count": 70,
   "metadata": {},
   "outputs": [
    {
     "name": "stdout",
     "output_type": "stream",
     "text": [
      "O aluno teve uma nota de 3 pontos\n"
     ]
    }
   ],
   "source": [
    "resposta = []\n",
    "acertos = 0\n",
    "for i in range(1, 11): \n",
    "    r = input(f'Responda a {i}º pergunta utilizando as letras A, B, C e D: ')\n",
    "    resposta.append(r.upper())\n",
    "    gabarito = ['D', 'A', 'C', 'B', 'A', 'D', 'C', 'C', 'A', 'B']\n",
    "    if resposta[i - 1] == gabarito[i - 1]:\n",
    "        acertos += 1\n",
    "\n",
    "print(f'O aluno teve uma nota de {acertos} pontos') "
   ]
  },
  {
   "attachments": {},
   "cell_type": "markdown",
   "metadata": {},
   "source": [
    "#### 10) Um instituto de meteorologia deseja fazer um estudo de temperatura média de cada mês do ano. Para isso, você precisa fazer um código que colete e armazene essas temperaturas médias em uma lista. Depois, calcule a média anual das temperaturas e mostre todas as temperaturas acima da média anual, e em que mês elas ocorreram, mostrando os meses por extenso: Janeiro, Fevereiro, etc."
   ]
  },
  {
   "cell_type": "code",
   "execution_count": 105,
   "metadata": {},
   "outputs": [
    {
     "name": "stdout",
     "output_type": "stream",
     "text": [
      "Temperaturas acima da média anual:\n",
      "Janeiro: 100.0°C\n",
      "Junho: 100.0°C\n",
      "Dezembro: 100.0°C\n"
     ]
    }
   ],
   "source": [
    "meses = ['Janeiro', 'Fevereiro', 'Março', 'Abril','Maio', 'Junho', 'Julho', 'Agosto','Setembro', 'Outubro', 'Novembro', 'Dezembro']\n",
    "temperaturas = []\n",
    "\n",
    "# Coleta das temperaturas médias mensais\n",
    "for mes in meses:\n",
    "    temperatura = float(input(f\"Digite a temperatura média de {mes}: \"))\n",
    "    temperaturas.append(temperatura)\n",
    "\n",
    "# Cálculo da média anual\n",
    "media_anual = sum(temperaturas) / len(temperaturas)\n",
    "\n",
    "# Mostrar temperaturas acima da média anual e os meses correspondentes\n",
    "print(\"Temperaturas acima da média anual:\")\n",
    "for i in range(len(temperaturas)):\n",
    "    if temperaturas[i] > media_anual:\n",
    "        print(f\"{meses[i]}: {temperaturas[i]}°C\")\n"
   ]
  },
  {
   "attachments": {},
   "cell_type": "markdown",
   "metadata": {},
   "source": [
    "#### 11) Uma empresa de e-commerce está interessada em analisar as vendas dos seus produtos. Os dados das vendas foram armazenados em um dicionário:\n",
    "#### {'Produto A': 300, 'Produto B': 80, 'Produto C': 60, 'Produto D': 200, 'Produto E': 250, 'Produto F': 30}\n",
    "#### Escreva um código que calcule o total de vendas e o produto mais vendido."
   ]
  },
  {
   "cell_type": "code",
   "execution_count": 16,
   "metadata": {},
   "outputs": [
    {
     "name": "stdout",
     "output_type": "stream",
     "text": [
      "O total de vendas é: 920\n",
      "O produto mais vendido é: 300\n"
     ]
    }
   ],
   "source": [
    "vendas = {'Produto A': 300, 'Produto B': 80, 'Produto C': 60, 'Produto D': 200, 'Produto E': 250, 'Produto F': 30}\n",
    "produto_mais_vendido = 0\n",
    "total_venda = sum(vendas.values())\n",
    "aux = 0\n",
    "for venda in vendas.values():\n",
    "    if venda > produto_mais_vendido:\n",
    "        produto_mais_vendido = venda\n",
    "\n",
    "print(f'O total de vendas é: {total_venda}')\n",
    "print(f'O produto mais vendido é: {produto_mais_vendido}')\n"
   ]
  },
  {
   "attachments": {},
   "cell_type": "markdown",
   "metadata": {},
   "source": [
    "#### 12) Uma pesquisa de mercado foi feita para decidir qual design de uma marca infantil mais agrada crianças. A pesquisa foi feita e o votos computados podem ser observados abaixo:\n",
    "#### '''\n",
    "#### Tabela de votos da marca\n",
    "#### Design 1 - 1334 votos\n",
    "#### Design 2 - 982 votos\n",
    "#### Design 3 - 1751 votos\n",
    "#### Design 4 - 210 votos\n",
    "#### Design 5 - 1811 votos\n",
    "#### '''\n",
    "#### Adapte os dados fornecidos a você para uma estrutura de dicionário e a partir dele, informe o design vencedor e a porcentagem de votos recebidos."
   ]
  },
  {
   "cell_type": "code",
   "execution_count": 26,
   "metadata": {},
   "outputs": [
    {
     "name": "stdout",
     "output_type": "stream",
     "text": [
      "O design vencedor é Design 5\n",
      "A porcentagem de votos que ele recebeu foi de 29.75%\n"
     ]
    }
   ],
   "source": [
    "votos = {'Design 1': 1334, 'Design 2': 982, 'Design 3': 1751, 'Design 4': 210, 'Design 5': 1811}\n",
    "total_votos = sum(votos.values())\n",
    "vencedor = max(votos, key=votos.get)\n",
    "percentual_votos_vencedor = (votos[vencedor] / total_votos) * 100\n",
    "\n",
    "print(f'O design vencedor é {vencedor}')\n",
    "print('A porcentagem de votos que ele recebeu foi de {:.2f}%'.format(percentual_votos_vencedor))"
   ]
  },
  {
   "attachments": {},
   "cell_type": "markdown",
   "metadata": {},
   "source": [
    "#### 13) Os funcionários de um setor da empresa que você trabalha vão receber um abono correspondente a 10% do seu salário devido ao ótimo desempenho do time. O setor financeiro solicitou sua ajuda para a verificação das consequências financeiras que esse abono irá gerar nos recursos. Assim, foi encaminhada para você uma lista com os salários que receberão o abono: [1172, 1644, 2617, 5130, 5532, 6341, 6650, 7238, 7685, 7782, 7903]. O abono de cada funcionário não pode ser inferior a 200. Em código, transforme cada um dos salários em chaves de um dicionário e o abono de cada salário no elemento. Depois, informe o total de gastos com o abono, quantos funcionários receberam o abono mínimo e qual o maior valor de abono fornecido."
   ]
  },
  {
   "cell_type": "code",
   "execution_count": 33,
   "metadata": {},
   "outputs": [
    {
     "name": "stdout",
     "output_type": "stream",
     "text": [
      "Total de gastos com o abono é R$ 5969.40\n",
      "Foram 2 funcionarios que receberam o abono mínimo\n",
      "O maior abono fornecido foi de R$ 790.3\n"
     ]
    }
   ],
   "source": [
    "salarios = {'f1': 1172, 'f2': 1644, 'f3': 2617, 'f4': 5130, 'f5': 5532, 'f6': 6341, 'f7':6650, 'f8':7238, 'f9':7685, 'f10':7782, 'f11':7903}\n",
    "recebem_abono_minimo = 0\n",
    "total_abono = 0\n",
    "maior_abono = 0\n",
    "for salario in salarios.values():\n",
    "    abono = (salario / 100) * 10\n",
    "    total_abono += abono \n",
    "    if abono < 200:\n",
    "        abono = 200\n",
    "        recebem_abono_minimo += 1\n",
    "    if abono > maior_abono:\n",
    "        maior_abono = abono\n",
    "\n",
    "print('Total de gastos com o abono é R$ {:.2f}'.format(total_abono))\n",
    "print(f'Foram {recebem_abono_minimo} funcionarios que receberam o abono mínimo')\n",
    "print(f'O maior abono fornecido foi de R$ {maior_abono}')"
   ]
  },
  {
   "attachments": {},
   "cell_type": "markdown",
   "metadata": {},
   "source": [
    "#### 14) Uma equipe de cientistas de dados está estudando a diversidade biológica em uma floresta. A equipe fez a coleta de informações sobre o número de espécies de plantas e animais em cada área da floresta e armazenaram essas informações em um dicionário. Nele, a chave descreve a área dos dados e os valores nas listas correspondem às espécies de plantas e animais nas áreas, respectivamente.\n",
    "\n",
    "#### {'Área Norte': [2819, 7236],\n",
    "#### 'Área Leste': [1440, 9492],\n",
    "#### 'Área Sul': [5969, 7496],\n",
    "#### 'Área Oeste': [14446, 49688],\n",
    "#### 'Área Centro': [22558, 45148]}\n",
    "\n",
    "#### Escreva um código para calcular a média de espécies por área e identificar a área com a maior diversidade biológica. Dica: use as funções built-in sum() e len()."
   ]
  },
  {
   "cell_type": "code",
   "execution_count": 48,
   "metadata": {},
   "outputs": [
    {
     "name": "stdout",
     "output_type": "stream",
     "text": [
      "Média de espécies por área:\n",
      "Área Norte: 5027.5\n",
      "Área Leste: 5466.0\n",
      "Área Sul: 6732.5\n",
      "Área Oeste: 32067.0\n",
      "Área Centro: 33853.0\n",
      "Área com a maior diversidade biológica: Área Centro\n"
     ]
    }
   ],
   "source": [
    "dados_floresta = {\n",
    "    'Área Norte': [2819, 7236],\n",
    "    'Área Leste': [1440, 9492],\n",
    "    'Área Sul': [5969, 7496],\n",
    "    'Área Oeste': [14446, 49688],\n",
    "    'Área Centro': [22558, 45148]\n",
    "}\n",
    "\n",
    "# Cálculo da média de espécies por área\n",
    "media_especies = {}\n",
    "for area, especies in dados_floresta.items():\n",
    "    media = sum(especies) / len(especies)\n",
    "    media_especies[area] = media\n",
    "\n",
    "# Identificação da área com a maior diversidade biológica\n",
    "area_maior_diversidade = max(media_especies, key=media_especies.get)\n",
    "\n",
    "print(\"Média de espécies por área:\")\n",
    "for area, media in media_especies.items():\n",
    "    print(area + \":\", media)\n",
    "\n",
    "print(\"Área com a maior diversidade biológica:\", area_maior_diversidade)\n"
   ]
  },
  {
   "attachments": {},
   "cell_type": "markdown",
   "metadata": {},
   "source": [
    "#### 15) O setor de RH da sua empresa te pediu uma ajuda para analisar as idades dos funcionários de 4 setores da empresa. Para isso, ele te forneceu os seguintes dados:\n",
    "#### {'Setor A': [22, 26, 30, 30, 35, 38, 40, 56, 57, 65],\n",
    "#### 'Setor B': [22, 24, 26, 33, 41, 49, 50, 54, 60, 64],\n",
    "#### 'Setor C': [23, 26, 26, 29, 34, 35, 36, 41, 52, 56],\n",
    "#### 'Setor D': [19, 20, 25, 27, 34, 39, 42, 44, 50, 65]}\n",
    "#### Sabendo que cada setor tem 10 funcionários, construa um código que calcule a média de idade de cada setor, a idade média geral entre todos os setores e quantas pessoas estão acima da idade média geral."
   ]
  },
  {
   "cell_type": "code",
   "execution_count": 57,
   "metadata": {},
   "outputs": [
    {
     "name": "stdout",
     "output_type": "stream",
     "text": [
      "Média de idade do Setor A: 39.9\n",
      "Média de idade do Setor B: 42.3\n",
      "Média de idade do Setor C: 35.8\n",
      "Média de idade do Setor D: 36.5\n",
      "Idade média geral: 38.625\n",
      "Quantidade de pessoas acima da idade média geral: 18\n"
     ]
    }
   ],
   "source": [
    "idades_setores = {\n",
    "    'Setor A': [22, 26, 30, 30, 35, 38, 40, 56, 57, 65],\n",
    "    'Setor B': [22, 24, 26, 33, 41, 49, 50, 54, 60, 64],\n",
    "    'Setor C': [23, 26, 26, 29, 34, 35, 36, 41, 52, 56],\n",
    "    'Setor D': [19, 20, 25, 27, 34, 39, 42, 44, 50, 65]\n",
    "}\n",
    "\n",
    "total_setores = len(idades_setores)\n",
    "total_funcionarios = total_setores * 10\n",
    "\n",
    "soma_idades = 0\n",
    "quantidade_pessoas_acima_media = 0\n",
    "\n",
    "# Cálculo da média de idade de cada setor e soma das idades\n",
    "for setor, idades in idades_setores.items():\n",
    "    media_setor = sum(idades) / len(idades)\n",
    "    print(\"Média de idade do\", setor + \":\", media_setor)\n",
    "    soma_idades += sum(idades)\n",
    "\n",
    "# Cálculo da idade média geral\n",
    "media_geral = soma_idades / total_funcionarios\n",
    "print(\"Idade média geral:\", media_geral)\n",
    "\n",
    "# Contagem de pessoas acima da idade média geral\n",
    "for setor, idades in idades_setores.items():\n",
    "    for idade in idades:\n",
    "        if idade > media_geral:\n",
    "            quantidade_pessoas_acima_media += 1\n",
    "print(\"Quantidade de pessoas acima da idade média geral:\", quantidade_pessoas_acima_media)\n"
   ]
  }
 ],
 "metadata": {
  "kernelspec": {
   "display_name": "Python 3",
   "language": "python",
   "name": "python3"
  },
  "language_info": {
   "codemirror_mode": {
    "name": "ipython",
    "version": 3
   },
   "file_extension": ".py",
   "mimetype": "text/x-python",
   "name": "python",
   "nbconvert_exporter": "python",
   "pygments_lexer": "ipython3",
   "version": "3.11.1"
  },
  "orig_nbformat": 4
 },
 "nbformat": 4,
 "nbformat_minor": 2
}
