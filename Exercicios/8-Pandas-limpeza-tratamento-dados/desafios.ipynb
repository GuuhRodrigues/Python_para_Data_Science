{
 "cells": [
  {
   "cell_type": "markdown",
   "metadata": {},
   "source": [
    "## Desafio 1: utilizando parâmetros do json_normalize"
   ]
  },
  {
   "cell_type": "markdown",
   "metadata": {},
   "source": [
    "Ao normalizar o objeto JSON durante a aula passamos simplesmente pd.json_normalize(<dados>) mas o método json_normalize possui diversos parâmetros para trabalhar com estruturas de dados mais complexas.\n",
    "\n",
    "Você recebeu a tarefa de normalizar o seguinte arquivo JSON chamado “informacoes.json” referente a algumas informações de identificação de um cliente. "
   ]
  },
  {
   "cell_type": "code",
   "execution_count": 170,
   "metadata": {},
   "outputs": [
    {
     "data": {
      "text/plain": [
       "{'tipo': 'casa', 'rua': 'Rua A', 'numero': 123, 'cidade': 'São Paulo'}"
      ]
     },
     "execution_count": 170,
     "metadata": {},
     "output_type": "execute_result"
    }
   ],
   "source": [
    "import pandas as pd\n",
    "\n",
    "dados_informacoes = pd.read_json('C:/Users/Guuh/Downloads/Python para Data Science/Exercicios/8-Pandas-limpeza-tratamento-dados/informacoes.json')\n",
    "dados_informacoes['enderecos'][0]"
   ]
  },
  {
   "cell_type": "code",
   "execution_count": 171,
   "metadata": {},
   "outputs": [],
   "source": [
    "import json\n",
    "\n",
    "with open('C:/Users/Guuh/Downloads/Python para Data Science/Exercicios/8-Pandas-limpeza-tratamento-dados/informacoes.json') as f:\n",
    "    dados_informacoes_brutos = json.load(f)"
   ]
  },
  {
   "cell_type": "code",
   "execution_count": 172,
   "metadata": {},
   "outputs": [
    {
     "data": {
      "text/plain": [
       "{'nome': 'JoÃ£o',\n",
       " 'idade': 28,\n",
       " 'enderecos': [{'tipo': 'casa',\n",
       "   'rua': 'Rua A',\n",
       "   'numero': 123,\n",
       "   'cidade': 'SÃ£o Paulo'},\n",
       "  {'tipo': 'trabalho',\n",
       "   'rua': 'Rua B',\n",
       "   'numero': 456,\n",
       "   'cidade': 'Rio de Janeiro'}]}"
      ]
     },
     "execution_count": 172,
     "metadata": {},
     "output_type": "execute_result"
    }
   ],
   "source": [
    "dados_informacoes_brutos"
   ]
  },
  {
   "cell_type": "code",
   "execution_count": 173,
   "metadata": {},
   "outputs": [
    {
     "data": {
      "text/html": [
       "<div>\n",
       "<style scoped>\n",
       "    .dataframe tbody tr th:only-of-type {\n",
       "        vertical-align: middle;\n",
       "    }\n",
       "\n",
       "    .dataframe tbody tr th {\n",
       "        vertical-align: top;\n",
       "    }\n",
       "\n",
       "    .dataframe thead th {\n",
       "        text-align: right;\n",
       "    }\n",
       "</style>\n",
       "<table border=\"1\" class=\"dataframe\">\n",
       "  <thead>\n",
       "    <tr style=\"text-align: right;\">\n",
       "      <th></th>\n",
       "      <th>tipo</th>\n",
       "      <th>rua</th>\n",
       "      <th>numero</th>\n",
       "      <th>cidade</th>\n",
       "      <th>nome</th>\n",
       "      <th>idade</th>\n",
       "    </tr>\n",
       "  </thead>\n",
       "  <tbody>\n",
       "    <tr>\n",
       "      <th>0</th>\n",
       "      <td>casa</td>\n",
       "      <td>Rua A</td>\n",
       "      <td>123</td>\n",
       "      <td>SÃ£o Paulo</td>\n",
       "      <td>JoÃ£o</td>\n",
       "      <td>28</td>\n",
       "    </tr>\n",
       "    <tr>\n",
       "      <th>1</th>\n",
       "      <td>trabalho</td>\n",
       "      <td>Rua B</td>\n",
       "      <td>456</td>\n",
       "      <td>Rio de Janeiro</td>\n",
       "      <td>JoÃ£o</td>\n",
       "      <td>28</td>\n",
       "    </tr>\n",
       "  </tbody>\n",
       "</table>\n",
       "</div>"
      ],
      "text/plain": [
       "       tipo    rua  numero          cidade   nome idade\n",
       "0      casa  Rua A     123      SÃ£o Paulo  JoÃ£o    28\n",
       "1  trabalho  Rua B     456  Rio de Janeiro  JoÃ£o    28"
      ]
     },
     "execution_count": 173,
     "metadata": {},
     "output_type": "execute_result"
    }
   ],
   "source": [
    "dados_informacoes_normalizados = pd.json_normalize(dados_informacoes_brutos, record_path='enderecos', meta=['nome', 'idade'], errors='ignore')\n",
    "dados_informacoes_normalizados"
   ]
  },
  {
   "cell_type": "markdown",
   "metadata": {},
   "source": [
    "## Desafio 2: tratando os dados"
   ]
  },
  {
   "cell_type": "markdown",
   "metadata": {},
   "source": [
    "Sua tarefa é realizar alguns tratamentos e deixar esse arquivo JSON como um Pandas DataFrame, sem dados vazios e com a tipagem das colunas de forma correta. Como isso pode ser feito?"
   ]
  },
  {
   "cell_type": "code",
   "execution_count": 174,
   "metadata": {},
   "outputs": [
    {
     "data": {
      "text/html": [
       "<div>\n",
       "<style scoped>\n",
       "    .dataframe tbody tr th:only-of-type {\n",
       "        vertical-align: middle;\n",
       "    }\n",
       "\n",
       "    .dataframe tbody tr th {\n",
       "        vertical-align: top;\n",
       "    }\n",
       "\n",
       "    .dataframe thead th {\n",
       "        text-align: right;\n",
       "    }\n",
       "</style>\n",
       "<table border=\"1\" class=\"dataframe\">\n",
       "  <thead>\n",
       "    <tr style=\"text-align: right;\">\n",
       "      <th></th>\n",
       "      <th>pessoas</th>\n",
       "    </tr>\n",
       "  </thead>\n",
       "  <tbody>\n",
       "    <tr>\n",
       "      <th>0</th>\n",
       "      <td>{'nome': 'João', 'idade': '25', 'endereco': {'...</td>\n",
       "    </tr>\n",
       "    <tr>\n",
       "      <th>1</th>\n",
       "      <td>{'nome': 'Maria', 'idade': 30, 'endereco': {'r...</td>\n",
       "    </tr>\n",
       "  </tbody>\n",
       "</table>\n",
       "</div>"
      ],
      "text/plain": [
       "                                             pessoas\n",
       "0  {'nome': 'João', 'idade': '25', 'endereco': {'...\n",
       "1  {'nome': 'Maria', 'idade': 30, 'endereco': {'r..."
      ]
     },
     "execution_count": 174,
     "metadata": {},
     "output_type": "execute_result"
    }
   ],
   "source": [
    "import pandas as pd\n",
    "\n",
    "dados = pd.read_json('C:/Users/Guuh/Downloads/Python para Data Science/Exercicios/8-Pandas-limpeza-tratamento-dados/dados.json')\n",
    "dados"
   ]
  },
  {
   "cell_type": "code",
   "execution_count": 175,
   "metadata": {},
   "outputs": [
    {
     "data": {
      "text/plain": [
       "{'nome': 'João',\n",
       " 'idade': '25',\n",
       " 'endereco': {'rua': 'Rua A', 'numero': 123, 'cidade': 'São Paulo'},\n",
       " 'telefones': ['11 1111-1111', '11 2222-2222']}"
      ]
     },
     "execution_count": 175,
     "metadata": {},
     "output_type": "execute_result"
    }
   ],
   "source": [
    "dados['pessoas'][0]"
   ]
  },
  {
   "cell_type": "code",
   "execution_count": 176,
   "metadata": {},
   "outputs": [],
   "source": [
    "import json\n",
    "\n",
    "with open('C:/Users/Guuh/Downloads/Python para Data Science/Exercicios/8-Pandas-limpeza-tratamento-dados/dados.json') as f:\n",
    "    dados_brutos = json.load(f)"
   ]
  },
  {
   "cell_type": "code",
   "execution_count": 177,
   "metadata": {},
   "outputs": [
    {
     "data": {
      "text/plain": [
       "{'pessoas': [{'nome': 'JoÃ£o',\n",
       "   'idade': '25',\n",
       "   'endereco': {'rua': 'Rua A', 'numero': 123, 'cidade': 'SÃ£o Paulo'},\n",
       "   'telefones': ['11 1111-1111', '11 2222-2222']},\n",
       "  {'nome': 'Maria',\n",
       "   'idade': 30,\n",
       "   'endereco': {'rua': '', 'numero': 456, 'cidade': 'Rio de Janeiro'},\n",
       "   'telefones': ['21 3333-3333']}]}"
      ]
     },
     "execution_count": 177,
     "metadata": {},
     "output_type": "execute_result"
    }
   ],
   "source": [
    "dados_brutos"
   ]
  },
  {
   "cell_type": "code",
   "execution_count": 178,
   "metadata": {},
   "outputs": [
    {
     "data": {
      "text/html": [
       "<div>\n",
       "<style scoped>\n",
       "    .dataframe tbody tr th:only-of-type {\n",
       "        vertical-align: middle;\n",
       "    }\n",
       "\n",
       "    .dataframe tbody tr th {\n",
       "        vertical-align: top;\n",
       "    }\n",
       "\n",
       "    .dataframe thead th {\n",
       "        text-align: right;\n",
       "    }\n",
       "</style>\n",
       "<table border=\"1\" class=\"dataframe\">\n",
       "  <thead>\n",
       "    <tr style=\"text-align: right;\">\n",
       "      <th></th>\n",
       "      <th>nome</th>\n",
       "      <th>idade</th>\n",
       "      <th>telefones</th>\n",
       "      <th>endereco.rua</th>\n",
       "      <th>endereco.numero</th>\n",
       "      <th>endereco.cidade</th>\n",
       "    </tr>\n",
       "  </thead>\n",
       "  <tbody>\n",
       "    <tr>\n",
       "      <th>0</th>\n",
       "      <td>JoÃ£o</td>\n",
       "      <td>25</td>\n",
       "      <td>[11 1111-1111, 11 2222-2222]</td>\n",
       "      <td>Rua A</td>\n",
       "      <td>123</td>\n",
       "      <td>SÃ£o Paulo</td>\n",
       "    </tr>\n",
       "    <tr>\n",
       "      <th>1</th>\n",
       "      <td>Maria</td>\n",
       "      <td>30</td>\n",
       "      <td>[21 3333-3333]</td>\n",
       "      <td></td>\n",
       "      <td>456</td>\n",
       "      <td>Rio de Janeiro</td>\n",
       "    </tr>\n",
       "  </tbody>\n",
       "</table>\n",
       "</div>"
      ],
      "text/plain": [
       "    nome idade                     telefones endereco.rua  endereco.numero  \\\n",
       "0  JoÃ£o    25  [11 1111-1111, 11 2222-2222]        Rua A              123   \n",
       "1  Maria    30                [21 3333-3333]                           456   \n",
       "\n",
       "  endereco.cidade  \n",
       "0      SÃ£o Paulo  \n",
       "1  Rio de Janeiro  "
      ]
     },
     "execution_count": 178,
     "metadata": {},
     "output_type": "execute_result"
    }
   ],
   "source": [
    "dados_normalizados = pd.json_normalize(dados_brutos, record_path=['pessoas'], errors='ignore')\n",
    "dados_normalizados"
   ]
  },
  {
   "cell_type": "code",
   "execution_count": 179,
   "metadata": {},
   "outputs": [
    {
     "name": "stdout",
     "output_type": "stream",
     "text": [
      "<class 'pandas.core.frame.DataFrame'>\n",
      "RangeIndex: 2 entries, 0 to 1\n",
      "Data columns (total 6 columns):\n",
      " #   Column           Non-Null Count  Dtype \n",
      "---  ------           --------------  ----- \n",
      " 0   nome             2 non-null      object\n",
      " 1   idade            2 non-null      object\n",
      " 2   telefones        2 non-null      object\n",
      " 3   endereco.rua     2 non-null      object\n",
      " 4   endereco.numero  2 non-null      int64 \n",
      " 5   endereco.cidade  2 non-null      object\n",
      "dtypes: int64(1), object(5)\n",
      "memory usage: 224.0+ bytes\n"
     ]
    }
   ],
   "source": [
    "dados_normalizados.info()"
   ]
  },
  {
   "cell_type": "code",
   "execution_count": 180,
   "metadata": {},
   "outputs": [],
   "source": [
    "dados_normalizados['idade'] = dados_normalizados['idade'].astype(int)"
   ]
  },
  {
   "cell_type": "code",
   "execution_count": 181,
   "metadata": {},
   "outputs": [
    {
     "name": "stdout",
     "output_type": "stream",
     "text": [
      "<class 'pandas.core.frame.DataFrame'>\n",
      "RangeIndex: 2 entries, 0 to 1\n",
      "Data columns (total 6 columns):\n",
      " #   Column           Non-Null Count  Dtype \n",
      "---  ------           --------------  ----- \n",
      " 0   nome             2 non-null      object\n",
      " 1   idade            2 non-null      int32 \n",
      " 2   telefones        2 non-null      object\n",
      " 3   endereco.rua     2 non-null      object\n",
      " 4   endereco.numero  2 non-null      int64 \n",
      " 5   endereco.cidade  2 non-null      object\n",
      "dtypes: int32(1), int64(1), object(4)\n",
      "memory usage: 216.0+ bytes\n"
     ]
    }
   ],
   "source": [
    "dados_normalizados.info()"
   ]
  },
  {
   "cell_type": "code",
   "execution_count": 182,
   "metadata": {},
   "outputs": [
    {
     "name": "stdout",
     "output_type": "stream",
     "text": [
      "Coluna: nome\n",
      "['JoÃ£o' 'Maria']\n",
      "------------------------------\n",
      "Coluna: idade\n",
      "[25 30]\n",
      "------------------------------\n",
      "Coluna: telefones\n",
      "['11 1111-1111' '11 2222-2222' '21 3333-3333']\n",
      "------------------------------\n",
      "Coluna: endereco.rua\n",
      "['Rua A' '']\n",
      "------------------------------\n",
      "Coluna: endereco.numero\n",
      "[123 456]\n",
      "------------------------------\n",
      "Coluna: endereco.cidade\n",
      "['SÃ£o Paulo' 'Rio de Janeiro']\n",
      "------------------------------\n"
     ]
    }
   ],
   "source": [
    "for col in dados_normalizados.columns:\n",
    "    print(f\"Coluna: {col}\")\n",
    "    if col == 'telefones':\n",
    "        unique_values = dados_normalizados[col].explode().unique()\n",
    "    else:\n",
    "        unique_values = dados_normalizados[col].unique()\n",
    "    print(unique_values)\n",
    "    print(\"-\" * 30)\n"
   ]
  },
  {
   "cell_type": "code",
   "execution_count": 183,
   "metadata": {},
   "outputs": [
    {
     "data": {
      "text/html": [
       "<div>\n",
       "<style scoped>\n",
       "    .dataframe tbody tr th:only-of-type {\n",
       "        vertical-align: middle;\n",
       "    }\n",
       "\n",
       "    .dataframe tbody tr th {\n",
       "        vertical-align: top;\n",
       "    }\n",
       "\n",
       "    .dataframe thead th {\n",
       "        text-align: right;\n",
       "    }\n",
       "</style>\n",
       "<table border=\"1\" class=\"dataframe\">\n",
       "  <thead>\n",
       "    <tr style=\"text-align: right;\">\n",
       "      <th></th>\n",
       "      <th>nome</th>\n",
       "      <th>idade</th>\n",
       "      <th>telefones</th>\n",
       "      <th>endereco.rua</th>\n",
       "      <th>endereco.numero</th>\n",
       "      <th>endereco.cidade</th>\n",
       "    </tr>\n",
       "  </thead>\n",
       "  <tbody>\n",
       "    <tr>\n",
       "      <th>0</th>\n",
       "      <td>JoÃ£o</td>\n",
       "      <td>25</td>\n",
       "      <td>[11 1111-1111, 11 2222-2222]</td>\n",
       "      <td>Rua A</td>\n",
       "      <td>123</td>\n",
       "      <td>SÃ£o Paulo</td>\n",
       "    </tr>\n",
       "  </tbody>\n",
       "</table>\n",
       "</div>"
      ],
      "text/plain": [
       "    nome  idade                     telefones endereco.rua  endereco.numero  \\\n",
       "0  JoÃ£o     25  [11 1111-1111, 11 2222-2222]        Rua A              123   \n",
       "\n",
       "  endereco.cidade  \n",
       "0      SÃ£o Paulo  "
      ]
     },
     "execution_count": 183,
     "metadata": {},
     "output_type": "execute_result"
    }
   ],
   "source": [
    "dados_sem_vazio = dados_normalizados.loc[dados_normalizados['endereco.rua'] != ''].copy()\n",
    "dados_sem_vazio"
   ]
  },
  {
   "cell_type": "code",
   "execution_count": 184,
   "metadata": {},
   "outputs": [
    {
     "data": {
      "text/html": [
       "<div>\n",
       "<style scoped>\n",
       "    .dataframe tbody tr th:only-of-type {\n",
       "        vertical-align: middle;\n",
       "    }\n",
       "\n",
       "    .dataframe tbody tr th {\n",
       "        vertical-align: top;\n",
       "    }\n",
       "\n",
       "    .dataframe thead th {\n",
       "        text-align: right;\n",
       "    }\n",
       "</style>\n",
       "<table border=\"1\" class=\"dataframe\">\n",
       "  <thead>\n",
       "    <tr style=\"text-align: right;\">\n",
       "      <th></th>\n",
       "      <th>nome</th>\n",
       "      <th>idade</th>\n",
       "      <th>endereco.rua</th>\n",
       "      <th>endereco.numero</th>\n",
       "      <th>endereco.cidade</th>\n",
       "      <th>telefone1</th>\n",
       "      <th>telefone2</th>\n",
       "    </tr>\n",
       "  </thead>\n",
       "  <tbody>\n",
       "    <tr>\n",
       "      <th>0</th>\n",
       "      <td>JoÃ£o</td>\n",
       "      <td>25</td>\n",
       "      <td>Rua A</td>\n",
       "      <td>123</td>\n",
       "      <td>SÃ£o Paulo</td>\n",
       "      <td>11 1111-1111</td>\n",
       "      <td>11 2222-2222</td>\n",
       "    </tr>\n",
       "  </tbody>\n",
       "</table>\n",
       "</div>"
      ],
      "text/plain": [
       "    nome  idade endereco.rua  endereco.numero endereco.cidade     telefone1  \\\n",
       "0  JoÃ£o     25        Rua A              123      SÃ£o Paulo  11 1111-1111   \n",
       "\n",
       "      telefone2  \n",
       "0  11 2222-2222  "
      ]
     },
     "execution_count": 184,
     "metadata": {},
     "output_type": "execute_result"
    }
   ],
   "source": [
    "dados_sem_vazio['telefone1'] = dados_sem_vazio['telefones'].str[0]\n",
    "dados_sem_vazio['telefone2'] = dados_sem_vazio['telefones'].str[1]\n",
    "dados_sem_vazio.drop(columns='telefones', inplace=True)\n",
    "dados_sem_vazio"
   ]
  },
  {
   "cell_type": "code",
   "execution_count": 185,
   "metadata": {},
   "outputs": [
    {
     "name": "stdout",
     "output_type": "stream",
     "text": [
      "<class 'pandas.core.frame.DataFrame'>\n",
      "Index: 1 entries, 0 to 0\n",
      "Data columns (total 7 columns):\n",
      " #   Column           Non-Null Count  Dtype \n",
      "---  ------           --------------  ----- \n",
      " 0   nome             1 non-null      object\n",
      " 1   idade            1 non-null      int32 \n",
      " 2   endereco.rua     1 non-null      object\n",
      " 3   endereco.numero  1 non-null      int64 \n",
      " 4   endereco.cidade  1 non-null      object\n",
      " 5   telefone1        1 non-null      object\n",
      " 6   telefone2        1 non-null      object\n",
      "dtypes: int32(1), int64(1), object(5)\n",
      "memory usage: 60.0+ bytes\n"
     ]
    }
   ],
   "source": [
    "dados_sem_vazio.info()"
   ]
  },
  {
   "cell_type": "markdown",
   "metadata": {},
   "source": [
    "## Desafio 3: tratando uma base de dados"
   ]
  },
  {
   "cell_type": "markdown",
   "metadata": {},
   "source": [
    "Para facilitar a análise dos dados de cadastro de cursos de uma plataforma, você recebeu um arquivo chamado cursos_cadastrados.json. Você foi informado que esses dados podem apresentar problemas que podem prejudicar a análise e interpretação correta dos dados.\n",
    "\n",
    "Para resolver isso, foi solicitado que você identifique e remova as amostras que apresentam os seguintes problemas:\n",
    "\n",
    "##### -Valores nulos: são valores ausentes em algumas das colunas que devem ser preenchidos para que a análise seja correta.\n",
    "##### -Duplicatas: registros iguais que podem prejudicar a análise dos dados, já que estão representando a mesma informação.\n",
    "##### -Strings vazias: valores de texto que não apresentam nenhum conteúdo escrito, o que pode dificultar a análise de dados, principalmente se a coluna tiver muitos valores assim.\n",
    "##### -Conversão de tipos: algumas colunas do arquivo podem estar no tipo de dados errado, como texto em vez de número, o que pode prejudicar a análise. Nesse caso você deve realizar a conversão para o tipo correto de cada coluna.\n",
    "Dentro desse contexto, você precisará de uma abordagem sistemática para limpar os dados. Assim, como isso pode ser feito?"
   ]
  },
  {
   "cell_type": "code",
   "execution_count": 186,
   "metadata": {},
   "outputs": [
    {
     "data": {
      "text/html": [
       "<div>\n",
       "<style scoped>\n",
       "    .dataframe tbody tr th:only-of-type {\n",
       "        vertical-align: middle;\n",
       "    }\n",
       "\n",
       "    .dataframe tbody tr th {\n",
       "        vertical-align: top;\n",
       "    }\n",
       "\n",
       "    .dataframe thead th {\n",
       "        text-align: right;\n",
       "    }\n",
       "</style>\n",
       "<table border=\"1\" class=\"dataframe\">\n",
       "  <thead>\n",
       "    <tr style=\"text-align: right;\">\n",
       "      <th></th>\n",
       "      <th>curso</th>\n",
       "      <th>categoria</th>\n",
       "      <th>carga_horaria</th>\n",
       "      <th>concluintes</th>\n",
       "      <th>data_inicio</th>\n",
       "      <th>data_conclusao</th>\n",
       "      <th>descricao</th>\n",
       "      <th>preco</th>\n",
       "      <th>instrutor</th>\n",
       "    </tr>\n",
       "  </thead>\n",
       "  <tbody>\n",
       "    <tr>\n",
       "      <th>0</th>\n",
       "      <td>Introdução à programação</td>\n",
       "      <td>Programação</td>\n",
       "      <td>20 horas</td>\n",
       "      <td>100</td>\n",
       "      <td>2022-01-01</td>\n",
       "      <td>2022-01-20</td>\n",
       "      <td>Curso introdutório à programação com Python</td>\n",
       "      <td>99.9</td>\n",
       "      <td>{'nome': 'João Silva', 'email': 'joao.silva@em...</td>\n",
       "    </tr>\n",
       "    <tr>\n",
       "      <th>1</th>\n",
       "      <td>Excel para iniciantes</td>\n",
       "      <td>Produtividade</td>\n",
       "      <td>None</td>\n",
       "      <td>None</td>\n",
       "      <td>None</td>\n",
       "      <td>None</td>\n",
       "      <td>None</td>\n",
       "      <td>NaN</td>\n",
       "      <td>{'nome': 'Maria Oliveira', 'email': 'maria.oli...</td>\n",
       "    </tr>\n",
       "    <tr>\n",
       "      <th>2</th>\n",
       "      <td>Marketing digital para negócios</td>\n",
       "      <td>Marketing</td>\n",
       "      <td>30 horas</td>\n",
       "      <td>75</td>\n",
       "      <td>2022-03-01</td>\n",
       "      <td>2022-03-31</td>\n",
       "      <td>Curso introdutório em marketing</td>\n",
       "      <td>89.9</td>\n",
       "      <td>{'nome': 'Ana Santos', 'email': 'ana.santos@em...</td>\n",
       "    </tr>\n",
       "    <tr>\n",
       "      <th>3</th>\n",
       "      <td>Inteligência artificial</td>\n",
       "      <td>Programação</td>\n",
       "      <td>40 horas</td>\n",
       "      <td></td>\n",
       "      <td>2022-04-01</td>\n",
       "      <td></td>\n",
       "      <td>Curso avançado sobre inteligência artificial c...</td>\n",
       "      <td>129.9</td>\n",
       "      <td>{'nome': '', 'email': 'contato@emailaleatorio....</td>\n",
       "    </tr>\n",
       "    <tr>\n",
       "      <th>4</th>\n",
       "      <td>Inglês para negócios</td>\n",
       "      <td>Idiomas</td>\n",
       "      <td>20 horas</td>\n",
       "      <td>30</td>\n",
       "      <td></td>\n",
       "      <td></td>\n",
       "      <td>Curso de inglês para negócios</td>\n",
       "      <td>69.9</td>\n",
       "      <td>{'nome': 'John Smith', 'email': '', 'telefone'...</td>\n",
       "    </tr>\n",
       "    <tr>\n",
       "      <th>5</th>\n",
       "      <td>Introdução à programação</td>\n",
       "      <td>Programação</td>\n",
       "      <td>20 horas</td>\n",
       "      <td>100</td>\n",
       "      <td>2022-01-01</td>\n",
       "      <td>2022-01-20</td>\n",
       "      <td>Curso introdutório à programação com Python</td>\n",
       "      <td>99.9</td>\n",
       "      <td>{'nome': 'João Silva', 'email': 'joao.silva@em...</td>\n",
       "    </tr>\n",
       "  </tbody>\n",
       "</table>\n",
       "</div>"
      ],
      "text/plain": [
       "                             curso      categoria carga_horaria concluintes  \\\n",
       "0         Introdução à programação    Programação      20 horas         100   \n",
       "1            Excel para iniciantes  Produtividade          None        None   \n",
       "2  Marketing digital para negócios      Marketing      30 horas          75   \n",
       "3          Inteligência artificial    Programação      40 horas               \n",
       "4             Inglês para negócios        Idiomas      20 horas          30   \n",
       "5         Introdução à programação    Programação      20 horas         100   \n",
       "\n",
       "  data_inicio data_conclusao  \\\n",
       "0  2022-01-01     2022-01-20   \n",
       "1        None           None   \n",
       "2  2022-03-01     2022-03-31   \n",
       "3  2022-04-01                  \n",
       "4                              \n",
       "5  2022-01-01     2022-01-20   \n",
       "\n",
       "                                           descricao  preco  \\\n",
       "0        Curso introdutório à programação com Python   99.9   \n",
       "1                                               None    NaN   \n",
       "2                    Curso introdutório em marketing   89.9   \n",
       "3  Curso avançado sobre inteligência artificial c...  129.9   \n",
       "4                      Curso de inglês para negócios   69.9   \n",
       "5        Curso introdutório à programação com Python   99.9   \n",
       "\n",
       "                                           instrutor  \n",
       "0  {'nome': 'João Silva', 'email': 'joao.silva@em...  \n",
       "1  {'nome': 'Maria Oliveira', 'email': 'maria.oli...  \n",
       "2  {'nome': 'Ana Santos', 'email': 'ana.santos@em...  \n",
       "3  {'nome': '', 'email': 'contato@emailaleatorio....  \n",
       "4  {'nome': 'John Smith', 'email': '', 'telefone'...  \n",
       "5  {'nome': 'João Silva', 'email': 'joao.silva@em...  "
      ]
     },
     "execution_count": 186,
     "metadata": {},
     "output_type": "execute_result"
    }
   ],
   "source": [
    "import pandas as pd\n",
    "\n",
    "dados_cursos = pd.read_json('C:/Users/Guuh/Downloads/Python para Data Science/Exercicios/8-Pandas-limpeza-tratamento-dados/cursos_cadastrados.json')\n",
    "dados_cursos"
   ]
  },
  {
   "cell_type": "code",
   "execution_count": 187,
   "metadata": {},
   "outputs": [
    {
     "data": {
      "text/plain": [
       "[{'curso': 'IntroduÃ§Ã£o Ã\\xa0 programaÃ§Ã£o',\n",
       "  'categoria': 'ProgramaÃ§Ã£o',\n",
       "  'carga_horaria': '20 horas',\n",
       "  'concluintes': 100,\n",
       "  'data_inicio': '2022-01-01',\n",
       "  'data_conclusao': '2022-01-20',\n",
       "  'descricao': 'Curso introdutÃ³rio Ã\\xa0 programaÃ§Ã£o com Python',\n",
       "  'preco': '99.90',\n",
       "  'instrutor': {'nome': 'JoÃ£o Silva',\n",
       "   'email': 'joao.silva@emailaleatorio.com',\n",
       "   'telefone': '(11) 9999-9999'}},\n",
       " {'curso': 'Excel para iniciantes',\n",
       "  'categoria': 'Produtividade',\n",
       "  'carga_horaria': None,\n",
       "  'concluintes': None,\n",
       "  'data_inicio': None,\n",
       "  'data_conclusao': None,\n",
       "  'descricao': None,\n",
       "  'preco': None,\n",
       "  'instrutor': {'nome': 'Maria Oliveira',\n",
       "   'email': 'maria.oliveira@emailaleatorio.com',\n",
       "   'telefone': '(11) 8888-8888'}},\n",
       " {'curso': 'Marketing digital para negÃ³cios',\n",
       "  'categoria': 'Marketing',\n",
       "  'carga_horaria': '30 horas',\n",
       "  'concluintes': 75,\n",
       "  'data_inicio': '2022-03-01',\n",
       "  'data_conclusao': '2022-03-31',\n",
       "  'descricao': 'Curso introdutÃ³rio em marketing',\n",
       "  'preco': 89.9,\n",
       "  'instrutor': {'nome': 'Ana Santos',\n",
       "   'email': 'ana.santos@emailaleatorio.com',\n",
       "   'telefone': '(11) 7777-7777'}},\n",
       " {'curso': 'InteligÃªncia artificial',\n",
       "  'categoria': 'ProgramaÃ§Ã£o',\n",
       "  'carga_horaria': '40 horas',\n",
       "  'concluintes': '',\n",
       "  'data_inicio': '2022-04-01',\n",
       "  'data_conclusao': '',\n",
       "  'descricao': 'Curso avanÃ§ado sobre inteligÃªncia artificial com Python',\n",
       "  'preco': 129.9,\n",
       "  'instrutor': {'nome': '',\n",
       "   'email': 'contato@emailaleatorio.com',\n",
       "   'telefone': ''}},\n",
       " {'curso': 'InglÃªs para negÃ³cios',\n",
       "  'categoria': 'Idiomas',\n",
       "  'carga_horaria': '20 horas',\n",
       "  'concluintes': 30,\n",
       "  'data_inicio': '',\n",
       "  'data_conclusao': '',\n",
       "  'descricao': 'Curso de inglÃªs para negÃ³cios',\n",
       "  'preco': 69.9,\n",
       "  'instrutor': {'nome': 'John Smith', 'email': '', 'telefone': ''}},\n",
       " {'curso': 'IntroduÃ§Ã£o Ã\\xa0 programaÃ§Ã£o',\n",
       "  'categoria': 'ProgramaÃ§Ã£o',\n",
       "  'carga_horaria': '20 horas',\n",
       "  'concluintes': 100,\n",
       "  'data_inicio': '2022-01-01',\n",
       "  'data_conclusao': '2022-01-20',\n",
       "  'descricao': 'Curso introdutÃ³rio Ã\\xa0 programaÃ§Ã£o com Python',\n",
       "  'preco': '99.90',\n",
       "  'instrutor': {'nome': 'JoÃ£o Silva',\n",
       "   'email': 'joao.silva@emailaleatorio.com',\n",
       "   'telefone': '(11) 9999-9999'}}]"
      ]
     },
     "execution_count": 187,
     "metadata": {},
     "output_type": "execute_result"
    }
   ],
   "source": [
    "import json\n",
    "\n",
    "with open('C:/Users/Guuh/Downloads/Python para Data Science/Exercicios/8-Pandas-limpeza-tratamento-dados/cursos_cadastrados.json') as f:\n",
    "    dados_cursos_brutos = json.load(f)\n",
    "dados_cursos_brutos"
   ]
  },
  {
   "cell_type": "code",
   "execution_count": 188,
   "metadata": {},
   "outputs": [
    {
     "data": {
      "text/html": [
       "<div>\n",
       "<style scoped>\n",
       "    .dataframe tbody tr th:only-of-type {\n",
       "        vertical-align: middle;\n",
       "    }\n",
       "\n",
       "    .dataframe tbody tr th {\n",
       "        vertical-align: top;\n",
       "    }\n",
       "\n",
       "    .dataframe thead th {\n",
       "        text-align: right;\n",
       "    }\n",
       "</style>\n",
       "<table border=\"1\" class=\"dataframe\">\n",
       "  <thead>\n",
       "    <tr style=\"text-align: right;\">\n",
       "      <th></th>\n",
       "      <th>curso</th>\n",
       "      <th>categoria</th>\n",
       "      <th>carga_horaria</th>\n",
       "      <th>concluintes</th>\n",
       "      <th>data_inicio</th>\n",
       "      <th>data_conclusao</th>\n",
       "      <th>descricao</th>\n",
       "      <th>preco</th>\n",
       "      <th>instrutor.nome</th>\n",
       "      <th>instrutor.email</th>\n",
       "      <th>instrutor.telefone</th>\n",
       "    </tr>\n",
       "  </thead>\n",
       "  <tbody>\n",
       "    <tr>\n",
       "      <th>0</th>\n",
       "      <td>IntroduÃ§Ã£o Ã  programaÃ§Ã£o</td>\n",
       "      <td>ProgramaÃ§Ã£o</td>\n",
       "      <td>20 horas</td>\n",
       "      <td>100</td>\n",
       "      <td>2022-01-01</td>\n",
       "      <td>2022-01-20</td>\n",
       "      <td>Curso introdutÃ³rio Ã  programaÃ§Ã£o com Python</td>\n",
       "      <td>99.90</td>\n",
       "      <td>JoÃ£o Silva</td>\n",
       "      <td>joao.silva@emailaleatorio.com</td>\n",
       "      <td>(11) 9999-9999</td>\n",
       "    </tr>\n",
       "    <tr>\n",
       "      <th>1</th>\n",
       "      <td>Excel para iniciantes</td>\n",
       "      <td>Produtividade</td>\n",
       "      <td>None</td>\n",
       "      <td>None</td>\n",
       "      <td>None</td>\n",
       "      <td>None</td>\n",
       "      <td>None</td>\n",
       "      <td>None</td>\n",
       "      <td>Maria Oliveira</td>\n",
       "      <td>maria.oliveira@emailaleatorio.com</td>\n",
       "      <td>(11) 8888-8888</td>\n",
       "    </tr>\n",
       "    <tr>\n",
       "      <th>2</th>\n",
       "      <td>Marketing digital para negÃ³cios</td>\n",
       "      <td>Marketing</td>\n",
       "      <td>30 horas</td>\n",
       "      <td>75</td>\n",
       "      <td>2022-03-01</td>\n",
       "      <td>2022-03-31</td>\n",
       "      <td>Curso introdutÃ³rio em marketing</td>\n",
       "      <td>89.9</td>\n",
       "      <td>Ana Santos</td>\n",
       "      <td>ana.santos@emailaleatorio.com</td>\n",
       "      <td>(11) 7777-7777</td>\n",
       "    </tr>\n",
       "    <tr>\n",
       "      <th>3</th>\n",
       "      <td>InteligÃªncia artificial</td>\n",
       "      <td>ProgramaÃ§Ã£o</td>\n",
       "      <td>40 horas</td>\n",
       "      <td></td>\n",
       "      <td>2022-04-01</td>\n",
       "      <td></td>\n",
       "      <td>Curso avanÃ§ado sobre inteligÃªncia artificial...</td>\n",
       "      <td>129.9</td>\n",
       "      <td></td>\n",
       "      <td>contato@emailaleatorio.com</td>\n",
       "      <td></td>\n",
       "    </tr>\n",
       "    <tr>\n",
       "      <th>4</th>\n",
       "      <td>InglÃªs para negÃ³cios</td>\n",
       "      <td>Idiomas</td>\n",
       "      <td>20 horas</td>\n",
       "      <td>30</td>\n",
       "      <td></td>\n",
       "      <td></td>\n",
       "      <td>Curso de inglÃªs para negÃ³cios</td>\n",
       "      <td>69.9</td>\n",
       "      <td>John Smith</td>\n",
       "      <td></td>\n",
       "      <td></td>\n",
       "    </tr>\n",
       "    <tr>\n",
       "      <th>5</th>\n",
       "      <td>IntroduÃ§Ã£o Ã  programaÃ§Ã£o</td>\n",
       "      <td>ProgramaÃ§Ã£o</td>\n",
       "      <td>20 horas</td>\n",
       "      <td>100</td>\n",
       "      <td>2022-01-01</td>\n",
       "      <td>2022-01-20</td>\n",
       "      <td>Curso introdutÃ³rio Ã  programaÃ§Ã£o com Python</td>\n",
       "      <td>99.90</td>\n",
       "      <td>JoÃ£o Silva</td>\n",
       "      <td>joao.silva@emailaleatorio.com</td>\n",
       "      <td>(11) 9999-9999</td>\n",
       "    </tr>\n",
       "  </tbody>\n",
       "</table>\n",
       "</div>"
      ],
      "text/plain": [
       "                              curso      categoria carga_horaria concluintes  \\\n",
       "0     IntroduÃ§Ã£o Ã  programaÃ§Ã£o  ProgramaÃ§Ã£o      20 horas         100   \n",
       "1             Excel para iniciantes  Produtividade          None        None   \n",
       "2  Marketing digital para negÃ³cios      Marketing      30 horas          75   \n",
       "3          InteligÃªncia artificial  ProgramaÃ§Ã£o      40 horas               \n",
       "4            InglÃªs para negÃ³cios        Idiomas      20 horas          30   \n",
       "5     IntroduÃ§Ã£o Ã  programaÃ§Ã£o  ProgramaÃ§Ã£o      20 horas         100   \n",
       "\n",
       "  data_inicio data_conclusao  \\\n",
       "0  2022-01-01     2022-01-20   \n",
       "1        None           None   \n",
       "2  2022-03-01     2022-03-31   \n",
       "3  2022-04-01                  \n",
       "4                              \n",
       "5  2022-01-01     2022-01-20   \n",
       "\n",
       "                                           descricao  preco  instrutor.nome  \\\n",
       "0    Curso introdutÃ³rio Ã  programaÃ§Ã£o com Python  99.90     JoÃ£o Silva   \n",
       "1                                               None   None  Maria Oliveira   \n",
       "2                   Curso introdutÃ³rio em marketing   89.9      Ana Santos   \n",
       "3  Curso avanÃ§ado sobre inteligÃªncia artificial...  129.9                   \n",
       "4                    Curso de inglÃªs para negÃ³cios   69.9      John Smith   \n",
       "5    Curso introdutÃ³rio Ã  programaÃ§Ã£o com Python  99.90     JoÃ£o Silva   \n",
       "\n",
       "                     instrutor.email instrutor.telefone  \n",
       "0      joao.silva@emailaleatorio.com     (11) 9999-9999  \n",
       "1  maria.oliveira@emailaleatorio.com     (11) 8888-8888  \n",
       "2      ana.santos@emailaleatorio.com     (11) 7777-7777  \n",
       "3         contato@emailaleatorio.com                     \n",
       "4                                                        \n",
       "5      joao.silva@emailaleatorio.com     (11) 9999-9999  "
      ]
     },
     "execution_count": 188,
     "metadata": {},
     "output_type": "execute_result"
    }
   ],
   "source": [
    "dados_cursos_normalizados = pd.json_normalize(dados_cursos_brutos)\n",
    "dados_cursos_normalizados"
   ]
  },
  {
   "cell_type": "code",
   "execution_count": 189,
   "metadata": {},
   "outputs": [
    {
     "name": "stdout",
     "output_type": "stream",
     "text": [
      "<class 'pandas.core.frame.DataFrame'>\n",
      "RangeIndex: 6 entries, 0 to 5\n",
      "Data columns (total 11 columns):\n",
      " #   Column              Non-Null Count  Dtype \n",
      "---  ------              --------------  ----- \n",
      " 0   curso               6 non-null      object\n",
      " 1   categoria           6 non-null      object\n",
      " 2   carga_horaria       5 non-null      object\n",
      " 3   concluintes         5 non-null      object\n",
      " 4   data_inicio         5 non-null      object\n",
      " 5   data_conclusao      5 non-null      object\n",
      " 6   descricao           5 non-null      object\n",
      " 7   preco               5 non-null      object\n",
      " 8   instrutor.nome      6 non-null      object\n",
      " 9   instrutor.email     6 non-null      object\n",
      " 10  instrutor.telefone  6 non-null      object\n",
      "dtypes: object(11)\n",
      "memory usage: 656.0+ bytes\n"
     ]
    }
   ],
   "source": [
    "dados_cursos_normalizados.info()"
   ]
  },
  {
   "cell_type": "code",
   "execution_count": 190,
   "metadata": {},
   "outputs": [
    {
     "data": {
      "text/plain": [
       "curso                 0\n",
       "categoria             0\n",
       "carga_horaria         1\n",
       "concluintes           1\n",
       "data_inicio           1\n",
       "data_conclusao        1\n",
       "descricao             1\n",
       "preco                 1\n",
       "instrutor.nome        0\n",
       "instrutor.email       0\n",
       "instrutor.telefone    0\n",
       "dtype: int64"
      ]
     },
     "execution_count": 190,
     "metadata": {},
     "output_type": "execute_result"
    }
   ],
   "source": [
    "dados_cursos_normalizados.isna().sum()"
   ]
  },
  {
   "cell_type": "code",
   "execution_count": 191,
   "metadata": {},
   "outputs": [
    {
     "data": {
      "text/plain": [
       "6"
      ]
     },
     "execution_count": 191,
     "metadata": {},
     "output_type": "execute_result"
    }
   ],
   "source": [
    "dados_cursos_normalizados.isna().sum().sum()"
   ]
  },
  {
   "cell_type": "code",
   "execution_count": 192,
   "metadata": {},
   "outputs": [
    {
     "data": {
      "text/html": [
       "<div>\n",
       "<style scoped>\n",
       "    .dataframe tbody tr th:only-of-type {\n",
       "        vertical-align: middle;\n",
       "    }\n",
       "\n",
       "    .dataframe tbody tr th {\n",
       "        vertical-align: top;\n",
       "    }\n",
       "\n",
       "    .dataframe thead th {\n",
       "        text-align: right;\n",
       "    }\n",
       "</style>\n",
       "<table border=\"1\" class=\"dataframe\">\n",
       "  <thead>\n",
       "    <tr style=\"text-align: right;\">\n",
       "      <th></th>\n",
       "      <th>curso</th>\n",
       "      <th>categoria</th>\n",
       "      <th>carga_horaria</th>\n",
       "      <th>concluintes</th>\n",
       "      <th>data_inicio</th>\n",
       "      <th>data_conclusao</th>\n",
       "      <th>descricao</th>\n",
       "      <th>preco</th>\n",
       "      <th>instrutor.nome</th>\n",
       "      <th>instrutor.email</th>\n",
       "      <th>instrutor.telefone</th>\n",
       "    </tr>\n",
       "  </thead>\n",
       "  <tbody>\n",
       "    <tr>\n",
       "      <th>1</th>\n",
       "      <td>Excel para iniciantes</td>\n",
       "      <td>Produtividade</td>\n",
       "      <td>None</td>\n",
       "      <td>None</td>\n",
       "      <td>None</td>\n",
       "      <td>None</td>\n",
       "      <td>None</td>\n",
       "      <td>None</td>\n",
       "      <td>Maria Oliveira</td>\n",
       "      <td>maria.oliveira@emailaleatorio.com</td>\n",
       "      <td>(11) 8888-8888</td>\n",
       "    </tr>\n",
       "  </tbody>\n",
       "</table>\n",
       "</div>"
      ],
      "text/plain": [
       "                   curso      categoria carga_horaria concluintes data_inicio  \\\n",
       "1  Excel para iniciantes  Produtividade          None        None        None   \n",
       "\n",
       "  data_conclusao descricao preco  instrutor.nome  \\\n",
       "1           None      None  None  Maria Oliveira   \n",
       "\n",
       "                     instrutor.email instrutor.telefone  \n",
       "1  maria.oliveira@emailaleatorio.com     (11) 8888-8888  "
      ]
     },
     "execution_count": 192,
     "metadata": {},
     "output_type": "execute_result"
    }
   ],
   "source": [
    "dados_cursos_normalizados[dados_cursos_normalizados.isna().any(axis=1)]"
   ]
  },
  {
   "cell_type": "code",
   "execution_count": 193,
   "metadata": {},
   "outputs": [
    {
     "data": {
      "text/html": [
       "<div>\n",
       "<style scoped>\n",
       "    .dataframe tbody tr th:only-of-type {\n",
       "        vertical-align: middle;\n",
       "    }\n",
       "\n",
       "    .dataframe tbody tr th {\n",
       "        vertical-align: top;\n",
       "    }\n",
       "\n",
       "    .dataframe thead th {\n",
       "        text-align: right;\n",
       "    }\n",
       "</style>\n",
       "<table border=\"1\" class=\"dataframe\">\n",
       "  <thead>\n",
       "    <tr style=\"text-align: right;\">\n",
       "      <th></th>\n",
       "      <th>curso</th>\n",
       "      <th>categoria</th>\n",
       "      <th>carga_horaria</th>\n",
       "      <th>concluintes</th>\n",
       "      <th>data_inicio</th>\n",
       "      <th>data_conclusao</th>\n",
       "      <th>descricao</th>\n",
       "      <th>preco</th>\n",
       "      <th>instrutor.nome</th>\n",
       "      <th>instrutor.email</th>\n",
       "      <th>instrutor.telefone</th>\n",
       "    </tr>\n",
       "  </thead>\n",
       "  <tbody>\n",
       "    <tr>\n",
       "      <th>1</th>\n",
       "      <td>Excel para iniciantes</td>\n",
       "      <td>Produtividade</td>\n",
       "      <td>None</td>\n",
       "      <td>None</td>\n",
       "      <td>None</td>\n",
       "      <td>None</td>\n",
       "      <td>None</td>\n",
       "      <td>None</td>\n",
       "      <td>Maria Oliveira</td>\n",
       "      <td>maria.oliveira@emailaleatorio.com</td>\n",
       "      <td>(11) 8888-8888</td>\n",
       "    </tr>\n",
       "  </tbody>\n",
       "</table>\n",
       "</div>"
      ],
      "text/plain": [
       "                   curso      categoria carga_horaria concluintes data_inicio  \\\n",
       "1  Excel para iniciantes  Produtividade          None        None        None   \n",
       "\n",
       "  data_conclusao descricao preco  instrutor.nome  \\\n",
       "1           None      None  None  Maria Oliveira   \n",
       "\n",
       "                     instrutor.email instrutor.telefone  \n",
       "1  maria.oliveira@emailaleatorio.com     (11) 8888-8888  "
      ]
     },
     "execution_count": 193,
     "metadata": {},
     "output_type": "execute_result"
    }
   ],
   "source": [
    "dados_cursos_normalizados.loc[dados_cursos_normalizados['curso'] == 'Excel para iniciantes']\n",
    "#aqui estou verificando se existe mais outro curso de excel para iniciantes para que eu consiga preencher os dados faltantes, aliás o preco do curso seria igual, descrição, etc."
   ]
  },
  {
   "cell_type": "code",
   "execution_count": 194,
   "metadata": {},
   "outputs": [],
   "source": [
    "colunas_dropar = ['carga_horaria', 'concluintes', 'data_inicio', 'data_conclusao', 'descricao', 'preco']"
   ]
  },
  {
   "cell_type": "code",
   "execution_count": 195,
   "metadata": {},
   "outputs": [
    {
     "data": {
      "text/plain": [
       "1"
      ]
     },
     "execution_count": 195,
     "metadata": {},
     "output_type": "execute_result"
    }
   ],
   "source": [
    "dados_cursos_normalizados[colunas_dropar].isna().any(axis=1).sum()"
   ]
  },
  {
   "cell_type": "code",
   "execution_count": 196,
   "metadata": {},
   "outputs": [
    {
     "data": {
      "text/html": [
       "<div>\n",
       "<style scoped>\n",
       "    .dataframe tbody tr th:only-of-type {\n",
       "        vertical-align: middle;\n",
       "    }\n",
       "\n",
       "    .dataframe tbody tr th {\n",
       "        vertical-align: top;\n",
       "    }\n",
       "\n",
       "    .dataframe thead th {\n",
       "        text-align: right;\n",
       "    }\n",
       "</style>\n",
       "<table border=\"1\" class=\"dataframe\">\n",
       "  <thead>\n",
       "    <tr style=\"text-align: right;\">\n",
       "      <th></th>\n",
       "      <th>curso</th>\n",
       "      <th>categoria</th>\n",
       "      <th>carga_horaria</th>\n",
       "      <th>concluintes</th>\n",
       "      <th>data_inicio</th>\n",
       "      <th>data_conclusao</th>\n",
       "      <th>descricao</th>\n",
       "      <th>preco</th>\n",
       "      <th>instrutor.nome</th>\n",
       "      <th>instrutor.email</th>\n",
       "      <th>instrutor.telefone</th>\n",
       "    </tr>\n",
       "  </thead>\n",
       "  <tbody>\n",
       "    <tr>\n",
       "      <th>0</th>\n",
       "      <td>IntroduÃ§Ã£o Ã  programaÃ§Ã£o</td>\n",
       "      <td>ProgramaÃ§Ã£o</td>\n",
       "      <td>20 horas</td>\n",
       "      <td>100</td>\n",
       "      <td>2022-01-01</td>\n",
       "      <td>2022-01-20</td>\n",
       "      <td>Curso introdutÃ³rio Ã  programaÃ§Ã£o com Python</td>\n",
       "      <td>99.90</td>\n",
       "      <td>JoÃ£o Silva</td>\n",
       "      <td>joao.silva@emailaleatorio.com</td>\n",
       "      <td>(11) 9999-9999</td>\n",
       "    </tr>\n",
       "    <tr>\n",
       "      <th>2</th>\n",
       "      <td>Marketing digital para negÃ³cios</td>\n",
       "      <td>Marketing</td>\n",
       "      <td>30 horas</td>\n",
       "      <td>75</td>\n",
       "      <td>2022-03-01</td>\n",
       "      <td>2022-03-31</td>\n",
       "      <td>Curso introdutÃ³rio em marketing</td>\n",
       "      <td>89.9</td>\n",
       "      <td>Ana Santos</td>\n",
       "      <td>ana.santos@emailaleatorio.com</td>\n",
       "      <td>(11) 7777-7777</td>\n",
       "    </tr>\n",
       "    <tr>\n",
       "      <th>3</th>\n",
       "      <td>InteligÃªncia artificial</td>\n",
       "      <td>ProgramaÃ§Ã£o</td>\n",
       "      <td>40 horas</td>\n",
       "      <td></td>\n",
       "      <td>2022-04-01</td>\n",
       "      <td></td>\n",
       "      <td>Curso avanÃ§ado sobre inteligÃªncia artificial...</td>\n",
       "      <td>129.9</td>\n",
       "      <td></td>\n",
       "      <td>contato@emailaleatorio.com</td>\n",
       "      <td></td>\n",
       "    </tr>\n",
       "    <tr>\n",
       "      <th>4</th>\n",
       "      <td>InglÃªs para negÃ³cios</td>\n",
       "      <td>Idiomas</td>\n",
       "      <td>20 horas</td>\n",
       "      <td>30</td>\n",
       "      <td></td>\n",
       "      <td></td>\n",
       "      <td>Curso de inglÃªs para negÃ³cios</td>\n",
       "      <td>69.9</td>\n",
       "      <td>John Smith</td>\n",
       "      <td></td>\n",
       "      <td></td>\n",
       "    </tr>\n",
       "    <tr>\n",
       "      <th>5</th>\n",
       "      <td>IntroduÃ§Ã£o Ã  programaÃ§Ã£o</td>\n",
       "      <td>ProgramaÃ§Ã£o</td>\n",
       "      <td>20 horas</td>\n",
       "      <td>100</td>\n",
       "      <td>2022-01-01</td>\n",
       "      <td>2022-01-20</td>\n",
       "      <td>Curso introdutÃ³rio Ã  programaÃ§Ã£o com Python</td>\n",
       "      <td>99.90</td>\n",
       "      <td>JoÃ£o Silva</td>\n",
       "      <td>joao.silva@emailaleatorio.com</td>\n",
       "      <td>(11) 9999-9999</td>\n",
       "    </tr>\n",
       "  </tbody>\n",
       "</table>\n",
       "</div>"
      ],
      "text/plain": [
       "                              curso      categoria carga_horaria concluintes  \\\n",
       "0     IntroduÃ§Ã£o Ã  programaÃ§Ã£o  ProgramaÃ§Ã£o      20 horas         100   \n",
       "2  Marketing digital para negÃ³cios      Marketing      30 horas          75   \n",
       "3          InteligÃªncia artificial  ProgramaÃ§Ã£o      40 horas               \n",
       "4            InglÃªs para negÃ³cios        Idiomas      20 horas          30   \n",
       "5     IntroduÃ§Ã£o Ã  programaÃ§Ã£o  ProgramaÃ§Ã£o      20 horas         100   \n",
       "\n",
       "  data_inicio data_conclusao  \\\n",
       "0  2022-01-01     2022-01-20   \n",
       "2  2022-03-01     2022-03-31   \n",
       "3  2022-04-01                  \n",
       "4                              \n",
       "5  2022-01-01     2022-01-20   \n",
       "\n",
       "                                           descricao  preco instrutor.nome  \\\n",
       "0    Curso introdutÃ³rio Ã  programaÃ§Ã£o com Python  99.90    JoÃ£o Silva   \n",
       "2                   Curso introdutÃ³rio em marketing   89.9     Ana Santos   \n",
       "3  Curso avanÃ§ado sobre inteligÃªncia artificial...  129.9                  \n",
       "4                    Curso de inglÃªs para negÃ³cios   69.9     John Smith   \n",
       "5    Curso introdutÃ³rio Ã  programaÃ§Ã£o com Python  99.90    JoÃ£o Silva   \n",
       "\n",
       "                 instrutor.email instrutor.telefone  \n",
       "0  joao.silva@emailaleatorio.com     (11) 9999-9999  \n",
       "2  ana.santos@emailaleatorio.com     (11) 7777-7777  \n",
       "3     contato@emailaleatorio.com                     \n",
       "4                                                    \n",
       "5  joao.silva@emailaleatorio.com     (11) 9999-9999  "
      ]
     },
     "execution_count": 196,
     "metadata": {},
     "output_type": "execute_result"
    }
   ],
   "source": [
    "df_cursos_sem_nulos = dados_cursos_normalizados.dropna(subset=colunas_dropar).copy()\n",
    "df_cursos_sem_nulos"
   ]
  },
  {
   "cell_type": "code",
   "execution_count": 197,
   "metadata": {},
   "outputs": [
    {
     "data": {
      "text/html": [
       "<div>\n",
       "<style scoped>\n",
       "    .dataframe tbody tr th:only-of-type {\n",
       "        vertical-align: middle;\n",
       "    }\n",
       "\n",
       "    .dataframe tbody tr th {\n",
       "        vertical-align: top;\n",
       "    }\n",
       "\n",
       "    .dataframe thead th {\n",
       "        text-align: right;\n",
       "    }\n",
       "</style>\n",
       "<table border=\"1\" class=\"dataframe\">\n",
       "  <thead>\n",
       "    <tr style=\"text-align: right;\">\n",
       "      <th></th>\n",
       "      <th>curso</th>\n",
       "      <th>categoria</th>\n",
       "      <th>carga_horaria</th>\n",
       "      <th>concluintes</th>\n",
       "      <th>data_inicio</th>\n",
       "      <th>data_conclusao</th>\n",
       "      <th>descricao</th>\n",
       "      <th>preco</th>\n",
       "      <th>instrutor.nome</th>\n",
       "      <th>instrutor.email</th>\n",
       "      <th>instrutor.telefone</th>\n",
       "    </tr>\n",
       "  </thead>\n",
       "  <tbody>\n",
       "    <tr>\n",
       "      <th>0</th>\n",
       "      <td>IntroduÃ§Ã£o Ã  programaÃ§Ã£o</td>\n",
       "      <td>ProgramaÃ§Ã£o</td>\n",
       "      <td>20 horas</td>\n",
       "      <td>100</td>\n",
       "      <td>2022-01-01</td>\n",
       "      <td>2022-01-20</td>\n",
       "      <td>Curso introdutÃ³rio Ã  programaÃ§Ã£o com Python</td>\n",
       "      <td>99.90</td>\n",
       "      <td>JoÃ£o Silva</td>\n",
       "      <td>joao.silva@emailaleatorio.com</td>\n",
       "      <td>(11) 9999-9999</td>\n",
       "    </tr>\n",
       "    <tr>\n",
       "      <th>1</th>\n",
       "      <td>Marketing digital para negÃ³cios</td>\n",
       "      <td>Marketing</td>\n",
       "      <td>30 horas</td>\n",
       "      <td>75</td>\n",
       "      <td>2022-03-01</td>\n",
       "      <td>2022-03-31</td>\n",
       "      <td>Curso introdutÃ³rio em marketing</td>\n",
       "      <td>89.9</td>\n",
       "      <td>Ana Santos</td>\n",
       "      <td>ana.santos@emailaleatorio.com</td>\n",
       "      <td>(11) 7777-7777</td>\n",
       "    </tr>\n",
       "    <tr>\n",
       "      <th>2</th>\n",
       "      <td>InteligÃªncia artificial</td>\n",
       "      <td>ProgramaÃ§Ã£o</td>\n",
       "      <td>40 horas</td>\n",
       "      <td></td>\n",
       "      <td>2022-04-01</td>\n",
       "      <td></td>\n",
       "      <td>Curso avanÃ§ado sobre inteligÃªncia artificial...</td>\n",
       "      <td>129.9</td>\n",
       "      <td></td>\n",
       "      <td>contato@emailaleatorio.com</td>\n",
       "      <td></td>\n",
       "    </tr>\n",
       "    <tr>\n",
       "      <th>3</th>\n",
       "      <td>InglÃªs para negÃ³cios</td>\n",
       "      <td>Idiomas</td>\n",
       "      <td>20 horas</td>\n",
       "      <td>30</td>\n",
       "      <td></td>\n",
       "      <td></td>\n",
       "      <td>Curso de inglÃªs para negÃ³cios</td>\n",
       "      <td>69.9</td>\n",
       "      <td>John Smith</td>\n",
       "      <td></td>\n",
       "      <td></td>\n",
       "    </tr>\n",
       "    <tr>\n",
       "      <th>4</th>\n",
       "      <td>IntroduÃ§Ã£o Ã  programaÃ§Ã£o</td>\n",
       "      <td>ProgramaÃ§Ã£o</td>\n",
       "      <td>20 horas</td>\n",
       "      <td>100</td>\n",
       "      <td>2022-01-01</td>\n",
       "      <td>2022-01-20</td>\n",
       "      <td>Curso introdutÃ³rio Ã  programaÃ§Ã£o com Python</td>\n",
       "      <td>99.90</td>\n",
       "      <td>JoÃ£o Silva</td>\n",
       "      <td>joao.silva@emailaleatorio.com</td>\n",
       "      <td>(11) 9999-9999</td>\n",
       "    </tr>\n",
       "  </tbody>\n",
       "</table>\n",
       "</div>"
      ],
      "text/plain": [
       "                              curso      categoria carga_horaria concluintes  \\\n",
       "0     IntroduÃ§Ã£o Ã  programaÃ§Ã£o  ProgramaÃ§Ã£o      20 horas         100   \n",
       "1  Marketing digital para negÃ³cios      Marketing      30 horas          75   \n",
       "2          InteligÃªncia artificial  ProgramaÃ§Ã£o      40 horas               \n",
       "3            InglÃªs para negÃ³cios        Idiomas      20 horas          30   \n",
       "4     IntroduÃ§Ã£o Ã  programaÃ§Ã£o  ProgramaÃ§Ã£o      20 horas         100   \n",
       "\n",
       "  data_inicio data_conclusao  \\\n",
       "0  2022-01-01     2022-01-20   \n",
       "1  2022-03-01     2022-03-31   \n",
       "2  2022-04-01                  \n",
       "3                              \n",
       "4  2022-01-01     2022-01-20   \n",
       "\n",
       "                                           descricao  preco instrutor.nome  \\\n",
       "0    Curso introdutÃ³rio Ã  programaÃ§Ã£o com Python  99.90    JoÃ£o Silva   \n",
       "1                   Curso introdutÃ³rio em marketing   89.9     Ana Santos   \n",
       "2  Curso avanÃ§ado sobre inteligÃªncia artificial...  129.9                  \n",
       "3                    Curso de inglÃªs para negÃ³cios   69.9     John Smith   \n",
       "4    Curso introdutÃ³rio Ã  programaÃ§Ã£o com Python  99.90    JoÃ£o Silva   \n",
       "\n",
       "                 instrutor.email instrutor.telefone  \n",
       "0  joao.silva@emailaleatorio.com     (11) 9999-9999  \n",
       "1  ana.santos@emailaleatorio.com     (11) 7777-7777  \n",
       "2     contato@emailaleatorio.com                     \n",
       "3                                                    \n",
       "4  joao.silva@emailaleatorio.com     (11) 9999-9999  "
      ]
     },
     "execution_count": 197,
     "metadata": {},
     "output_type": "execute_result"
    }
   ],
   "source": [
    "df_cursos_sem_nulos.reset_index(drop=True, inplace=True)\n",
    "df_cursos_sem_nulos"
   ]
  },
  {
   "cell_type": "code",
   "execution_count": 198,
   "metadata": {},
   "outputs": [
    {
     "data": {
      "text/plain": [
       "curso                 0\n",
       "categoria             0\n",
       "carga_horaria         0\n",
       "concluintes           0\n",
       "data_inicio           0\n",
       "data_conclusao        0\n",
       "descricao             0\n",
       "preco                 0\n",
       "instrutor.nome        0\n",
       "instrutor.email       0\n",
       "instrutor.telefone    0\n",
       "dtype: int64"
      ]
     },
     "execution_count": 198,
     "metadata": {},
     "output_type": "execute_result"
    }
   ],
   "source": [
    "df_cursos_sem_nulos.isna().sum()"
   ]
  },
  {
   "cell_type": "code",
   "execution_count": 199,
   "metadata": {},
   "outputs": [
    {
     "name": "stdout",
     "output_type": "stream",
     "text": [
      "<class 'pandas.core.frame.DataFrame'>\n",
      "RangeIndex: 5 entries, 0 to 4\n",
      "Data columns (total 11 columns):\n",
      " #   Column              Non-Null Count  Dtype \n",
      "---  ------              --------------  ----- \n",
      " 0   curso               5 non-null      object\n",
      " 1   categoria           5 non-null      object\n",
      " 2   carga_horaria       5 non-null      object\n",
      " 3   concluintes         5 non-null      object\n",
      " 4   data_inicio         5 non-null      object\n",
      " 5   data_conclusao      5 non-null      object\n",
      " 6   descricao           5 non-null      object\n",
      " 7   preco               5 non-null      object\n",
      " 8   instrutor.nome      5 non-null      object\n",
      " 9   instrutor.email     5 non-null      object\n",
      " 10  instrutor.telefone  5 non-null      object\n",
      "dtypes: object(11)\n",
      "memory usage: 568.0+ bytes\n"
     ]
    }
   ],
   "source": [
    "df_cursos_sem_nulos.info()"
   ]
  },
  {
   "cell_type": "code",
   "execution_count": 200,
   "metadata": {},
   "outputs": [
    {
     "data": {
      "text/plain": [
       "0    False\n",
       "1    False\n",
       "2    False\n",
       "3    False\n",
       "4     True\n",
       "dtype: bool"
      ]
     },
     "execution_count": 200,
     "metadata": {},
     "output_type": "execute_result"
    }
   ],
   "source": [
    "df_cursos_sem_nulos.duplicated()"
   ]
  },
  {
   "cell_type": "code",
   "execution_count": 201,
   "metadata": {},
   "outputs": [
    {
     "data": {
      "text/plain": [
       "1"
      ]
     },
     "execution_count": 201,
     "metadata": {},
     "output_type": "execute_result"
    }
   ],
   "source": [
    "df_cursos_sem_nulos.duplicated().sum()"
   ]
  },
  {
   "cell_type": "code",
   "execution_count": 202,
   "metadata": {},
   "outputs": [
    {
     "data": {
      "text/plain": [
       "0    False\n",
       "1    False\n",
       "2    False\n",
       "3    False\n",
       "4     True\n",
       "dtype: bool"
      ]
     },
     "execution_count": 202,
     "metadata": {},
     "output_type": "execute_result"
    }
   ],
   "source": [
    "filtro_duplicadas = df_cursos_sem_nulos.duplicated()\n",
    "filtro_duplicadas"
   ]
  },
  {
   "cell_type": "code",
   "execution_count": 203,
   "metadata": {},
   "outputs": [
    {
     "data": {
      "text/html": [
       "<div>\n",
       "<style scoped>\n",
       "    .dataframe tbody tr th:only-of-type {\n",
       "        vertical-align: middle;\n",
       "    }\n",
       "\n",
       "    .dataframe tbody tr th {\n",
       "        vertical-align: top;\n",
       "    }\n",
       "\n",
       "    .dataframe thead th {\n",
       "        text-align: right;\n",
       "    }\n",
       "</style>\n",
       "<table border=\"1\" class=\"dataframe\">\n",
       "  <thead>\n",
       "    <tr style=\"text-align: right;\">\n",
       "      <th></th>\n",
       "      <th>curso</th>\n",
       "      <th>categoria</th>\n",
       "      <th>carga_horaria</th>\n",
       "      <th>concluintes</th>\n",
       "      <th>data_inicio</th>\n",
       "      <th>data_conclusao</th>\n",
       "      <th>descricao</th>\n",
       "      <th>preco</th>\n",
       "      <th>instrutor.nome</th>\n",
       "      <th>instrutor.email</th>\n",
       "      <th>instrutor.telefone</th>\n",
       "    </tr>\n",
       "  </thead>\n",
       "  <tbody>\n",
       "    <tr>\n",
       "      <th>4</th>\n",
       "      <td>IntroduÃ§Ã£o Ã  programaÃ§Ã£o</td>\n",
       "      <td>ProgramaÃ§Ã£o</td>\n",
       "      <td>20 horas</td>\n",
       "      <td>100</td>\n",
       "      <td>2022-01-01</td>\n",
       "      <td>2022-01-20</td>\n",
       "      <td>Curso introdutÃ³rio Ã  programaÃ§Ã£o com Python</td>\n",
       "      <td>99.90</td>\n",
       "      <td>JoÃ£o Silva</td>\n",
       "      <td>joao.silva@emailaleatorio.com</td>\n",
       "      <td>(11) 9999-9999</td>\n",
       "    </tr>\n",
       "  </tbody>\n",
       "</table>\n",
       "</div>"
      ],
      "text/plain": [
       "                           curso      categoria carga_horaria concluintes  \\\n",
       "4  IntroduÃ§Ã£o Ã  programaÃ§Ã£o  ProgramaÃ§Ã£o      20 horas         100   \n",
       "\n",
       "  data_inicio data_conclusao                                        descricao  \\\n",
       "4  2022-01-01     2022-01-20  Curso introdutÃ³rio Ã  programaÃ§Ã£o com Python   \n",
       "\n",
       "   preco instrutor.nome                instrutor.email instrutor.telefone  \n",
       "4  99.90    JoÃ£o Silva  joao.silva@emailaleatorio.com     (11) 9999-9999  "
      ]
     },
     "execution_count": 203,
     "metadata": {},
     "output_type": "execute_result"
    }
   ],
   "source": [
    "df_cursos_sem_nulos[filtro_duplicadas]"
   ]
  },
  {
   "cell_type": "code",
   "execution_count": 204,
   "metadata": {},
   "outputs": [],
   "source": [
    "df_cursos_sem_nulos.drop_duplicates(inplace=True)"
   ]
  },
  {
   "cell_type": "code",
   "execution_count": 205,
   "metadata": {},
   "outputs": [
    {
     "data": {
      "text/plain": [
       "0"
      ]
     },
     "execution_count": 205,
     "metadata": {},
     "output_type": "execute_result"
    }
   ],
   "source": [
    "df_cursos_sem_nulos.duplicated().sum()"
   ]
  },
  {
   "cell_type": "code",
   "execution_count": 206,
   "metadata": {},
   "outputs": [
    {
     "data": {
      "text/html": [
       "<div>\n",
       "<style scoped>\n",
       "    .dataframe tbody tr th:only-of-type {\n",
       "        vertical-align: middle;\n",
       "    }\n",
       "\n",
       "    .dataframe tbody tr th {\n",
       "        vertical-align: top;\n",
       "    }\n",
       "\n",
       "    .dataframe thead th {\n",
       "        text-align: right;\n",
       "    }\n",
       "</style>\n",
       "<table border=\"1\" class=\"dataframe\">\n",
       "  <thead>\n",
       "    <tr style=\"text-align: right;\">\n",
       "      <th></th>\n",
       "      <th>curso</th>\n",
       "      <th>categoria</th>\n",
       "      <th>carga_horaria</th>\n",
       "      <th>concluintes</th>\n",
       "      <th>data_inicio</th>\n",
       "      <th>data_conclusao</th>\n",
       "      <th>descricao</th>\n",
       "      <th>preco</th>\n",
       "      <th>instrutor.nome</th>\n",
       "      <th>instrutor.email</th>\n",
       "      <th>instrutor.telefone</th>\n",
       "    </tr>\n",
       "  </thead>\n",
       "  <tbody>\n",
       "    <tr>\n",
       "      <th>0</th>\n",
       "      <td>IntroduÃ§Ã£o Ã  programaÃ§Ã£o</td>\n",
       "      <td>ProgramaÃ§Ã£o</td>\n",
       "      <td>20 horas</td>\n",
       "      <td>100</td>\n",
       "      <td>2022-01-01</td>\n",
       "      <td>2022-01-20</td>\n",
       "      <td>Curso introdutÃ³rio Ã  programaÃ§Ã£o com Python</td>\n",
       "      <td>99.90</td>\n",
       "      <td>JoÃ£o Silva</td>\n",
       "      <td>joao.silva@emailaleatorio.com</td>\n",
       "      <td>(11) 9999-9999</td>\n",
       "    </tr>\n",
       "    <tr>\n",
       "      <th>1</th>\n",
       "      <td>Marketing digital para negÃ³cios</td>\n",
       "      <td>Marketing</td>\n",
       "      <td>30 horas</td>\n",
       "      <td>75</td>\n",
       "      <td>2022-03-01</td>\n",
       "      <td>2022-03-31</td>\n",
       "      <td>Curso introdutÃ³rio em marketing</td>\n",
       "      <td>89.9</td>\n",
       "      <td>Ana Santos</td>\n",
       "      <td>ana.santos@emailaleatorio.com</td>\n",
       "      <td>(11) 7777-7777</td>\n",
       "    </tr>\n",
       "    <tr>\n",
       "      <th>2</th>\n",
       "      <td>InteligÃªncia artificial</td>\n",
       "      <td>ProgramaÃ§Ã£o</td>\n",
       "      <td>40 horas</td>\n",
       "      <td></td>\n",
       "      <td>2022-04-01</td>\n",
       "      <td></td>\n",
       "      <td>Curso avanÃ§ado sobre inteligÃªncia artificial...</td>\n",
       "      <td>129.9</td>\n",
       "      <td></td>\n",
       "      <td>contato@emailaleatorio.com</td>\n",
       "      <td></td>\n",
       "    </tr>\n",
       "    <tr>\n",
       "      <th>3</th>\n",
       "      <td>InglÃªs para negÃ³cios</td>\n",
       "      <td>Idiomas</td>\n",
       "      <td>20 horas</td>\n",
       "      <td>30</td>\n",
       "      <td></td>\n",
       "      <td></td>\n",
       "      <td>Curso de inglÃªs para negÃ³cios</td>\n",
       "      <td>69.9</td>\n",
       "      <td>John Smith</td>\n",
       "      <td></td>\n",
       "      <td></td>\n",
       "    </tr>\n",
       "  </tbody>\n",
       "</table>\n",
       "</div>"
      ],
      "text/plain": [
       "                              curso      categoria carga_horaria concluintes  \\\n",
       "0     IntroduÃ§Ã£o Ã  programaÃ§Ã£o  ProgramaÃ§Ã£o      20 horas         100   \n",
       "1  Marketing digital para negÃ³cios      Marketing      30 horas          75   \n",
       "2          InteligÃªncia artificial  ProgramaÃ§Ã£o      40 horas               \n",
       "3            InglÃªs para negÃ³cios        Idiomas      20 horas          30   \n",
       "\n",
       "  data_inicio data_conclusao  \\\n",
       "0  2022-01-01     2022-01-20   \n",
       "1  2022-03-01     2022-03-31   \n",
       "2  2022-04-01                  \n",
       "3                              \n",
       "\n",
       "                                           descricao  preco instrutor.nome  \\\n",
       "0    Curso introdutÃ³rio Ã  programaÃ§Ã£o com Python  99.90    JoÃ£o Silva   \n",
       "1                   Curso introdutÃ³rio em marketing   89.9     Ana Santos   \n",
       "2  Curso avanÃ§ado sobre inteligÃªncia artificial...  129.9                  \n",
       "3                    Curso de inglÃªs para negÃ³cios   69.9     John Smith   \n",
       "\n",
       "                 instrutor.email instrutor.telefone  \n",
       "0  joao.silva@emailaleatorio.com     (11) 9999-9999  \n",
       "1  ana.santos@emailaleatorio.com     (11) 7777-7777  \n",
       "2     contato@emailaleatorio.com                     \n",
       "3                                                    "
      ]
     },
     "execution_count": 206,
     "metadata": {},
     "output_type": "execute_result"
    }
   ],
   "source": [
    "df_cursos_sem_nulos"
   ]
  },
  {
   "cell_type": "code",
   "execution_count": 207,
   "metadata": {},
   "outputs": [
    {
     "name": "stdout",
     "output_type": "stream",
     "text": [
      "Coluna: curso\n",
      "['IntroduÃ§Ã£o Ã\\xa0 programaÃ§Ã£o' 'Marketing digital para negÃ³cios'\n",
      " 'InteligÃªncia artificial' 'InglÃªs para negÃ³cios']\n",
      "------------------------------\n",
      "Coluna: categoria\n",
      "['ProgramaÃ§Ã£o' 'Marketing' 'Idiomas']\n",
      "------------------------------\n",
      "Coluna: carga_horaria\n",
      "['20 horas' '30 horas' '40 horas']\n",
      "------------------------------\n",
      "Coluna: concluintes\n",
      "[100 75 '' 30]\n",
      "------------------------------\n",
      "Coluna: data_inicio\n",
      "['2022-01-01' '2022-03-01' '2022-04-01' '']\n",
      "------------------------------\n",
      "Coluna: data_conclusao\n",
      "['2022-01-20' '2022-03-31' '']\n",
      "------------------------------\n",
      "Coluna: descricao\n",
      "['Curso introdutÃ³rio Ã\\xa0 programaÃ§Ã£o com Python'\n",
      " 'Curso introdutÃ³rio em marketing'\n",
      " 'Curso avanÃ§ado sobre inteligÃªncia artificial com Python'\n",
      " 'Curso de inglÃªs para negÃ³cios']\n",
      "------------------------------\n",
      "Coluna: preco\n",
      "['99.90' 89.9 129.9 69.9]\n",
      "------------------------------\n",
      "Coluna: instrutor.nome\n",
      "['JoÃ£o Silva' 'Ana Santos' '' 'John Smith']\n",
      "------------------------------\n",
      "Coluna: instrutor.email\n",
      "['joao.silva@emailaleatorio.com' 'ana.santos@emailaleatorio.com'\n",
      " 'contato@emailaleatorio.com' '']\n",
      "------------------------------\n",
      "Coluna: instrutor.telefone\n",
      "['(11) 9999-9999' '(11) 7777-7777' '']\n",
      "------------------------------\n"
     ]
    }
   ],
   "source": [
    "for col in df_cursos_sem_nulos.columns:\n",
    "    print(f\"Coluna: {col}\")\n",
    "    print(df_cursos_sem_nulos[col].unique())\n",
    "    print(\"-\" * 30)"
   ]
  },
  {
   "cell_type": "code",
   "execution_count": 208,
   "metadata": {},
   "outputs": [
    {
     "data": {
      "text/html": [
       "<div>\n",
       "<style scoped>\n",
       "    .dataframe tbody tr th:only-of-type {\n",
       "        vertical-align: middle;\n",
       "    }\n",
       "\n",
       "    .dataframe tbody tr th {\n",
       "        vertical-align: top;\n",
       "    }\n",
       "\n",
       "    .dataframe thead th {\n",
       "        text-align: right;\n",
       "    }\n",
       "</style>\n",
       "<table border=\"1\" class=\"dataframe\">\n",
       "  <thead>\n",
       "    <tr style=\"text-align: right;\">\n",
       "      <th></th>\n",
       "      <th>curso</th>\n",
       "      <th>categoria</th>\n",
       "      <th>carga_horaria</th>\n",
       "      <th>concluintes</th>\n",
       "      <th>data_inicio</th>\n",
       "      <th>data_conclusao</th>\n",
       "      <th>descricao</th>\n",
       "      <th>preco</th>\n",
       "      <th>instrutor.nome</th>\n",
       "      <th>instrutor.email</th>\n",
       "      <th>instrutor.telefone</th>\n",
       "    </tr>\n",
       "  </thead>\n",
       "  <tbody>\n",
       "    <tr>\n",
       "      <th>0</th>\n",
       "      <td>IntroduÃ§Ã£o Ã  programaÃ§Ã£o</td>\n",
       "      <td>ProgramaÃ§Ã£o</td>\n",
       "      <td>20 horas</td>\n",
       "      <td>100</td>\n",
       "      <td>2022-01-01</td>\n",
       "      <td>2022-01-20</td>\n",
       "      <td>Curso introdutÃ³rio Ã  programaÃ§Ã£o com Python</td>\n",
       "      <td>99.90</td>\n",
       "      <td>JoÃ£o Silva</td>\n",
       "      <td>joao.silva@emailaleatorio.com</td>\n",
       "      <td>(11) 9999-9999</td>\n",
       "    </tr>\n",
       "    <tr>\n",
       "      <th>1</th>\n",
       "      <td>Marketing digital para negÃ³cios</td>\n",
       "      <td>Marketing</td>\n",
       "      <td>30 horas</td>\n",
       "      <td>75</td>\n",
       "      <td>2022-03-01</td>\n",
       "      <td>2022-03-31</td>\n",
       "      <td>Curso introdutÃ³rio em marketing</td>\n",
       "      <td>89.9</td>\n",
       "      <td>Ana Santos</td>\n",
       "      <td>ana.santos@emailaleatorio.com</td>\n",
       "      <td>(11) 7777-7777</td>\n",
       "    </tr>\n",
       "  </tbody>\n",
       "</table>\n",
       "</div>"
      ],
      "text/plain": [
       "                              curso      categoria carga_horaria concluintes  \\\n",
       "0     IntroduÃ§Ã£o Ã  programaÃ§Ã£o  ProgramaÃ§Ã£o      20 horas         100   \n",
       "1  Marketing digital para negÃ³cios      Marketing      30 horas          75   \n",
       "\n",
       "  data_inicio data_conclusao                                        descricao  \\\n",
       "0  2022-01-01     2022-01-20  Curso introdutÃ³rio Ã  programaÃ§Ã£o com Python   \n",
       "1  2022-03-01     2022-03-31                 Curso introdutÃ³rio em marketing   \n",
       "\n",
       "   preco instrutor.nome                instrutor.email instrutor.telefone  \n",
       "0  99.90    JoÃ£o Silva  joao.silva@emailaleatorio.com     (11) 9999-9999  \n",
       "1   89.9     Ana Santos  ana.santos@emailaleatorio.com     (11) 7777-7777  "
      ]
     },
     "execution_count": 208,
     "metadata": {},
     "output_type": "execute_result"
    }
   ],
   "source": [
    "#dados_sem_vazio = dados_normalizados[dados_normalizados['Churn'] != ''].copy()\n",
    "dados_cursos_sem_vazio = df_cursos_sem_nulos[\n",
    "    (df_cursos_sem_nulos['concluintes'] != '') &\n",
    "    (df_cursos_sem_nulos['data_inicio'] != '') & \n",
    "    (df_cursos_sem_nulos['data_conclusao'] != '') &\n",
    "    (df_cursos_sem_nulos['instrutor.nome'] != '') &\n",
    "    (df_cursos_sem_nulos['instrutor.email'] != '') &\n",
    "    (df_cursos_sem_nulos['instrutor.telefone'] != '')].copy()\n",
    "dados_cursos_sem_vazio"
   ]
  },
  {
   "cell_type": "code",
   "execution_count": 209,
   "metadata": {},
   "outputs": [
    {
     "name": "stdout",
     "output_type": "stream",
     "text": [
      "<class 'pandas.core.frame.DataFrame'>\n",
      "Index: 2 entries, 0 to 1\n",
      "Data columns (total 11 columns):\n",
      " #   Column              Non-Null Count  Dtype \n",
      "---  ------              --------------  ----- \n",
      " 0   curso               2 non-null      object\n",
      " 1   categoria           2 non-null      object\n",
      " 2   carga_horaria       2 non-null      object\n",
      " 3   concluintes         2 non-null      object\n",
      " 4   data_inicio         2 non-null      object\n",
      " 5   data_conclusao      2 non-null      object\n",
      " 6   descricao           2 non-null      object\n",
      " 7   preco               2 non-null      object\n",
      " 8   instrutor.nome      2 non-null      object\n",
      " 9   instrutor.email     2 non-null      object\n",
      " 10  instrutor.telefone  2 non-null      object\n",
      "dtypes: object(11)\n",
      "memory usage: 192.0+ bytes\n"
     ]
    }
   ],
   "source": [
    "dados_cursos_sem_vazio.info()"
   ]
  },
  {
   "cell_type": "code",
   "execution_count": 210,
   "metadata": {},
   "outputs": [
    {
     "data": {
      "text/html": [
       "<div>\n",
       "<style scoped>\n",
       "    .dataframe tbody tr th:only-of-type {\n",
       "        vertical-align: middle;\n",
       "    }\n",
       "\n",
       "    .dataframe tbody tr th {\n",
       "        vertical-align: top;\n",
       "    }\n",
       "\n",
       "    .dataframe thead th {\n",
       "        text-align: right;\n",
       "    }\n",
       "</style>\n",
       "<table border=\"1\" class=\"dataframe\">\n",
       "  <thead>\n",
       "    <tr style=\"text-align: right;\">\n",
       "      <th></th>\n",
       "      <th>curso</th>\n",
       "      <th>categoria</th>\n",
       "      <th>carga_horaria</th>\n",
       "      <th>concluintes</th>\n",
       "      <th>data_inicio</th>\n",
       "      <th>data_conclusao</th>\n",
       "      <th>descricao</th>\n",
       "      <th>preco</th>\n",
       "      <th>instrutor.nome</th>\n",
       "      <th>instrutor.email</th>\n",
       "      <th>instrutor.telefone</th>\n",
       "    </tr>\n",
       "  </thead>\n",
       "  <tbody>\n",
       "    <tr>\n",
       "      <th>0</th>\n",
       "      <td>IntroduÃ§Ã£o Ã  programaÃ§Ã£o</td>\n",
       "      <td>ProgramaÃ§Ã£o</td>\n",
       "      <td>20 horas</td>\n",
       "      <td>100</td>\n",
       "      <td>2022-01-01</td>\n",
       "      <td>2022-01-20</td>\n",
       "      <td>Curso introdutÃ³rio Ã  programaÃ§Ã£o com Python</td>\n",
       "      <td>99.90</td>\n",
       "      <td>JoÃ£o Silva</td>\n",
       "      <td>joao.silva@emailaleatorio.com</td>\n",
       "      <td>(11) 9999-9999</td>\n",
       "    </tr>\n",
       "    <tr>\n",
       "      <th>1</th>\n",
       "      <td>Marketing digital para negÃ³cios</td>\n",
       "      <td>Marketing</td>\n",
       "      <td>30 horas</td>\n",
       "      <td>75</td>\n",
       "      <td>2022-03-01</td>\n",
       "      <td>2022-03-31</td>\n",
       "      <td>Curso introdutÃ³rio em marketing</td>\n",
       "      <td>89.9</td>\n",
       "      <td>Ana Santos</td>\n",
       "      <td>ana.santos@emailaleatorio.com</td>\n",
       "      <td>(11) 7777-7777</td>\n",
       "    </tr>\n",
       "  </tbody>\n",
       "</table>\n",
       "</div>"
      ],
      "text/plain": [
       "                              curso      categoria carga_horaria concluintes  \\\n",
       "0     IntroduÃ§Ã£o Ã  programaÃ§Ã£o  ProgramaÃ§Ã£o      20 horas         100   \n",
       "1  Marketing digital para negÃ³cios      Marketing      30 horas          75   \n",
       "\n",
       "  data_inicio data_conclusao                                        descricao  \\\n",
       "0  2022-01-01     2022-01-20  Curso introdutÃ³rio Ã  programaÃ§Ã£o com Python   \n",
       "1  2022-03-01     2022-03-31                 Curso introdutÃ³rio em marketing   \n",
       "\n",
       "   preco instrutor.nome                instrutor.email instrutor.telefone  \n",
       "0  99.90    JoÃ£o Silva  joao.silva@emailaleatorio.com     (11) 9999-9999  \n",
       "1   89.9     Ana Santos  ana.santos@emailaleatorio.com     (11) 7777-7777  "
      ]
     },
     "execution_count": 210,
     "metadata": {},
     "output_type": "execute_result"
    }
   ],
   "source": [
    "dados_cursos_sem_vazio"
   ]
  },
  {
   "cell_type": "code",
   "execution_count": 211,
   "metadata": {},
   "outputs": [],
   "source": [
    "dados_cursos_sem_vazio['concluintes'] = dados_cursos_sem_vazio['concluintes'].astype(int)"
   ]
  },
  {
   "cell_type": "code",
   "execution_count": 212,
   "metadata": {},
   "outputs": [],
   "source": [
    "dados_cursos_sem_vazio['data_inicio'] = dados_cursos_sem_vazio['data_inicio'].astype('datetime64[ns]')"
   ]
  },
  {
   "cell_type": "code",
   "execution_count": 213,
   "metadata": {},
   "outputs": [],
   "source": [
    "dados_cursos_sem_vazio['data_conclusao'] = dados_cursos_sem_vazio['data_conclusao'].astype('datetime64[ns]')"
   ]
  },
  {
   "cell_type": "code",
   "execution_count": 214,
   "metadata": {},
   "outputs": [],
   "source": [
    "dados_cursos_sem_vazio['preco'] = dados_cursos_sem_vazio['preco'].astype(float)"
   ]
  },
  {
   "cell_type": "code",
   "execution_count": 215,
   "metadata": {},
   "outputs": [
    {
     "data": {
      "text/html": [
       "<div>\n",
       "<style scoped>\n",
       "    .dataframe tbody tr th:only-of-type {\n",
       "        vertical-align: middle;\n",
       "    }\n",
       "\n",
       "    .dataframe tbody tr th {\n",
       "        vertical-align: top;\n",
       "    }\n",
       "\n",
       "    .dataframe thead th {\n",
       "        text-align: right;\n",
       "    }\n",
       "</style>\n",
       "<table border=\"1\" class=\"dataframe\">\n",
       "  <thead>\n",
       "    <tr style=\"text-align: right;\">\n",
       "      <th></th>\n",
       "      <th>curso</th>\n",
       "      <th>categoria</th>\n",
       "      <th>carga_horaria</th>\n",
       "      <th>concluintes</th>\n",
       "      <th>data_inicio</th>\n",
       "      <th>data_conclusao</th>\n",
       "      <th>descricao</th>\n",
       "      <th>preco</th>\n",
       "      <th>instrutor.nome</th>\n",
       "      <th>instrutor.email</th>\n",
       "      <th>instrutor.telefone</th>\n",
       "    </tr>\n",
       "  </thead>\n",
       "  <tbody>\n",
       "    <tr>\n",
       "      <th>0</th>\n",
       "      <td>IntroduÃ§Ã£o Ã  programaÃ§Ã£o</td>\n",
       "      <td>ProgramaÃ§Ã£o</td>\n",
       "      <td>20</td>\n",
       "      <td>100</td>\n",
       "      <td>2022-01-01</td>\n",
       "      <td>2022-01-20</td>\n",
       "      <td>Curso introdutÃ³rio Ã  programaÃ§Ã£o com Python</td>\n",
       "      <td>99.9</td>\n",
       "      <td>JoÃ£o Silva</td>\n",
       "      <td>joao.silva@emailaleatorio.com</td>\n",
       "      <td>(11) 9999-9999</td>\n",
       "    </tr>\n",
       "    <tr>\n",
       "      <th>1</th>\n",
       "      <td>Marketing digital para negÃ³cios</td>\n",
       "      <td>Marketing</td>\n",
       "      <td>30</td>\n",
       "      <td>75</td>\n",
       "      <td>2022-03-01</td>\n",
       "      <td>2022-03-31</td>\n",
       "      <td>Curso introdutÃ³rio em marketing</td>\n",
       "      <td>89.9</td>\n",
       "      <td>Ana Santos</td>\n",
       "      <td>ana.santos@emailaleatorio.com</td>\n",
       "      <td>(11) 7777-7777</td>\n",
       "    </tr>\n",
       "  </tbody>\n",
       "</table>\n",
       "</div>"
      ],
      "text/plain": [
       "                              curso      categoria carga_horaria  concluintes  \\\n",
       "0     IntroduÃ§Ã£o Ã  programaÃ§Ã£o  ProgramaÃ§Ã£o           20           100   \n",
       "1  Marketing digital para negÃ³cios      Marketing           30            75   \n",
       "\n",
       "  data_inicio data_conclusao                                        descricao  \\\n",
       "0  2022-01-01     2022-01-20  Curso introdutÃ³rio Ã  programaÃ§Ã£o com Python   \n",
       "1  2022-03-01     2022-03-31                 Curso introdutÃ³rio em marketing   \n",
       "\n",
       "   preco instrutor.nome                instrutor.email instrutor.telefone  \n",
       "0   99.9    JoÃ£o Silva  joao.silva@emailaleatorio.com     (11) 9999-9999  \n",
       "1   89.9     Ana Santos  ana.santos@emailaleatorio.com     (11) 7777-7777  "
      ]
     },
     "execution_count": 215,
     "metadata": {},
     "output_type": "execute_result"
    }
   ],
   "source": [
    "dados_cursos_sem_vazio['carga_horaria'] = dados_cursos_sem_vazio['carga_horaria'].str.replace('[a-zA-z]', '', regex=True)\n",
    "dados_cursos_sem_vazio"
   ]
  },
  {
   "cell_type": "code",
   "execution_count": 216,
   "metadata": {},
   "outputs": [],
   "source": [
    "dados_cursos_sem_vazio['carga_horaria'] = dados_cursos_sem_vazio['carga_horaria'].astype(int)"
   ]
  },
  {
   "cell_type": "code",
   "execution_count": 217,
   "metadata": {},
   "outputs": [
    {
     "name": "stdout",
     "output_type": "stream",
     "text": [
      "<class 'pandas.core.frame.DataFrame'>\n",
      "Index: 2 entries, 0 to 1\n",
      "Data columns (total 11 columns):\n",
      " #   Column              Non-Null Count  Dtype         \n",
      "---  ------              --------------  -----         \n",
      " 0   curso               2 non-null      object        \n",
      " 1   categoria           2 non-null      object        \n",
      " 2   carga_horaria       2 non-null      int32         \n",
      " 3   concluintes         2 non-null      int32         \n",
      " 4   data_inicio         2 non-null      datetime64[ns]\n",
      " 5   data_conclusao      2 non-null      datetime64[ns]\n",
      " 6   descricao           2 non-null      object        \n",
      " 7   preco               2 non-null      float64       \n",
      " 8   instrutor.nome      2 non-null      object        \n",
      " 9   instrutor.email     2 non-null      object        \n",
      " 10  instrutor.telefone  2 non-null      object        \n",
      "dtypes: datetime64[ns](2), float64(1), int32(2), object(6)\n",
      "memory usage: 176.0+ bytes\n"
     ]
    }
   ],
   "source": [
    "dados_cursos_sem_vazio.info()"
   ]
  },
  {
   "cell_type": "code",
   "execution_count": 218,
   "metadata": {},
   "outputs": [
    {
     "data": {
      "text/html": [
       "<div>\n",
       "<style scoped>\n",
       "    .dataframe tbody tr th:only-of-type {\n",
       "        vertical-align: middle;\n",
       "    }\n",
       "\n",
       "    .dataframe tbody tr th {\n",
       "        vertical-align: top;\n",
       "    }\n",
       "\n",
       "    .dataframe thead th {\n",
       "        text-align: right;\n",
       "    }\n",
       "</style>\n",
       "<table border=\"1\" class=\"dataframe\">\n",
       "  <thead>\n",
       "    <tr style=\"text-align: right;\">\n",
       "      <th></th>\n",
       "      <th>curso</th>\n",
       "      <th>categoria</th>\n",
       "      <th>carga_horaria</th>\n",
       "      <th>concluintes</th>\n",
       "      <th>data_inicio</th>\n",
       "      <th>data_conclusao</th>\n",
       "      <th>descricao</th>\n",
       "      <th>preco</th>\n",
       "      <th>instrutor.nome</th>\n",
       "      <th>instrutor.email</th>\n",
       "      <th>instrutor.telefone</th>\n",
       "    </tr>\n",
       "  </thead>\n",
       "  <tbody>\n",
       "    <tr>\n",
       "      <th>0</th>\n",
       "      <td>IntroduÃ§Ã£o Ã  programaÃ§Ã£o</td>\n",
       "      <td>ProgramaÃ§Ã£o</td>\n",
       "      <td>20</td>\n",
       "      <td>100</td>\n",
       "      <td>2022-01-01</td>\n",
       "      <td>2022-01-20</td>\n",
       "      <td>Curso introdutÃ³rio Ã  programaÃ§Ã£o com Python</td>\n",
       "      <td>99.9</td>\n",
       "      <td>JoÃ£o Silva</td>\n",
       "      <td>joao.silva@emailaleatorio.com</td>\n",
       "      <td>(11) 9999-9999</td>\n",
       "    </tr>\n",
       "    <tr>\n",
       "      <th>1</th>\n",
       "      <td>Marketing digital para negÃ³cios</td>\n",
       "      <td>Marketing</td>\n",
       "      <td>30</td>\n",
       "      <td>75</td>\n",
       "      <td>2022-03-01</td>\n",
       "      <td>2022-03-31</td>\n",
       "      <td>Curso introdutÃ³rio em marketing</td>\n",
       "      <td>89.9</td>\n",
       "      <td>Ana Santos</td>\n",
       "      <td>ana.santos@emailaleatorio.com</td>\n",
       "      <td>(11) 7777-7777</td>\n",
       "    </tr>\n",
       "  </tbody>\n",
       "</table>\n",
       "</div>"
      ],
      "text/plain": [
       "                              curso      categoria  carga_horaria  \\\n",
       "0     IntroduÃ§Ã£o Ã  programaÃ§Ã£o  ProgramaÃ§Ã£o             20   \n",
       "1  Marketing digital para negÃ³cios      Marketing             30   \n",
       "\n",
       "   concluintes data_inicio data_conclusao  \\\n",
       "0          100  2022-01-01     2022-01-20   \n",
       "1           75  2022-03-01     2022-03-31   \n",
       "\n",
       "                                         descricao  preco instrutor.nome  \\\n",
       "0  Curso introdutÃ³rio Ã  programaÃ§Ã£o com Python   99.9    JoÃ£o Silva   \n",
       "1                 Curso introdutÃ³rio em marketing   89.9     Ana Santos   \n",
       "\n",
       "                 instrutor.email instrutor.telefone  \n",
       "0  joao.silva@emailaleatorio.com     (11) 9999-9999  \n",
       "1  ana.santos@emailaleatorio.com     (11) 7777-7777  "
      ]
     },
     "execution_count": 218,
     "metadata": {},
     "output_type": "execute_result"
    }
   ],
   "source": [
    "dados_cursos_sem_vazio"
   ]
  },
  {
   "cell_type": "markdown",
   "metadata": {},
   "source": [
    "## Desafio 4: identificando fraudes\n"
   ]
  },
  {
   "cell_type": "markdown",
   "metadata": {},
   "source": [
    "Foi informado que nessa base de dados há possíveis fraudes que podem ser identificadas através dos outliers no “valor da transação”. Basicamente a fraude seria um outlier.\n",
    "\n",
    "Sua missão é construir uma função que recebe dois parâmetros, a coluna que você quer analisar se tem outlier e o DataFrame em questão. A intenção de fazer isso é aproveitar novamente essa função tanto para outras colunas quanto para outros DataFrames futuramente em outras análises. O método que deve ser implementado para identificação do outlier é do intervalo interquartil.\n",
    "\n",
    "Como podemos fazer isso?"
   ]
  },
  {
   "cell_type": "code",
   "execution_count": 238,
   "metadata": {},
   "outputs": [],
   "source": [
    "def indentificar_outliers(coluna, dataframe):\n",
    "    Q1 = dataframe[coluna].quantile(.25)\n",
    "    Q3 = dataframe[coluna].quantile(.75)\n",
    "    IQR = Q3-Q1\n",
    "    limite_inferior = Q1 - 1.5*IQR\n",
    "    limite_superior = Q3 + 1.5*IQR\n",
    "\n",
    "    #acha os indices que contenham possíveis outliers\n",
    "    outliers = (dataframe[coluna] < limite_inferior) | (dataframe[coluna] > limite_superior)\n",
    "    outliers = dataframe[outliers][coluna]\n",
    "    return outliers"
   ]
  },
  {
   "cell_type": "code",
   "execution_count": 239,
   "metadata": {},
   "outputs": [],
   "source": [
    "import pandas as pd\n",
    "\n",
    "# criando um DataFrame com 30 transações aleatórias\n",
    "df = pd.DataFrame({\n",
    "    'ID da transação': range(1, 31),\n",
    "    'Valor da transação': [100, 200, 150, 500, 300, 913, 250, 400, 200, 150, \n",
    "                           200, 200, 400, 300, 150, 301, 805, 300, 400, 250, \n",
    "                           150, 100, 500, 600, 200, 350, 100, 250, 800, 250],\n",
    "    'Data da transação': pd.date_range(start='2022-01-01', end='2022-01-30', freq='D'),\n",
    "    'Local da transação': ['São Paulo, Brasil', 'Rio de Janeiro, Brasil', 'Belo Horizonte, Brasil', 'São Paulo, Brasil', \n",
    "                           'São Paulo, Brasil', 'Nova Iorque, EUA', 'São Paulo, Brasil', 'São Paulo, Brasil', 'São Paulo, Brasil',\n",
    "                           'Rio de Janeiro, Brasil', 'São Paulo, Brasil', 'São Paulo, Brasil', 'São Paulo, Brasil', 'São Paulo, Brasil',\n",
    "                           'São Paulo, Brasil', 'São Paulo, Brasil', 'Los Angeles, EUA', 'São Paulo, Brasil', 'São Paulo, Brasil', 'São Paulo, Brasil',\n",
    "                           'São Paulo, Brasil', 'São Paulo, Brasil', 'São Paulo, Brasil', 'São Paulo, Brasil', 'São Paulo, Brasil', 'São Paulo, Brasil',\n",
    "                           'São Paulo, Brasil', 'São Paulo, Brasil', 'Miami, EUA', 'São Paulo, Brasil']\n",
    "})"
   ]
  },
  {
   "cell_type": "code",
   "execution_count": 240,
   "metadata": {},
   "outputs": [
    {
     "data": {
      "text/plain": [
       "5     913\n",
       "16    805\n",
       "28    800\n",
       "Name: Valor da transação, dtype: int64"
      ]
     },
     "execution_count": 240,
     "metadata": {},
     "output_type": "execute_result"
    }
   ],
   "source": [
    "indentificar_outliers('Valor da transação', df)"
   ]
  }
 ],
 "metadata": {
  "kernelspec": {
   "display_name": "Python 3",
   "language": "python",
   "name": "python3"
  },
  "language_info": {
   "codemirror_mode": {
    "name": "ipython",
    "version": 3
   },
   "file_extension": ".py",
   "mimetype": "text/x-python",
   "name": "python",
   "nbconvert_exporter": "python",
   "pygments_lexer": "ipython3",
   "version": "3.11.1"
  },
  "orig_nbformat": 4
 },
 "nbformat": 4,
 "nbformat_minor": 2
}
